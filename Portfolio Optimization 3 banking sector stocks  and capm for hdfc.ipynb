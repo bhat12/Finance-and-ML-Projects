{
 "cells": [
  {
   "cell_type": "code",
   "execution_count": 246,
   "metadata": {},
   "outputs": [],
   "source": [
    "import pandas as pd\n",
    "import numpy as np\n",
    "import seaborn as sns \n",
    "import matplotlib.pyplot as plt\n",
    "%matplotlib inline"
   ]
  },
  {
   "cell_type": "code",
   "execution_count": 247,
   "metadata": {},
   "outputs": [],
   "source": [
    "from pandas_datareader import data"
   ]
  },
  {
   "cell_type": "code",
   "execution_count": 283,
   "metadata": {},
   "outputs": [],
   "source": [
    "ticker =['SBIN.NS','HDFCBANK.NS','YESBANK.NS']\n",
    "start_date =pd.to_datetime('2018-01-03')\n",
    "end_date =pd.to_datetime('2020-06-18')\n",
    "df=data.get_data_yahoo(ticker,start_date,end_date)"
   ]
  },
  {
   "cell_type": "code",
   "execution_count": 284,
   "metadata": {},
   "outputs": [
    {
     "data": {
      "text/html": [
       "<div>\n",
       "<style scoped>\n",
       "    .dataframe tbody tr th:only-of-type {\n",
       "        vertical-align: middle;\n",
       "    }\n",
       "\n",
       "    .dataframe tbody tr th {\n",
       "        vertical-align: top;\n",
       "    }\n",
       "\n",
       "    .dataframe thead tr th {\n",
       "        text-align: left;\n",
       "    }\n",
       "\n",
       "    .dataframe thead tr:last-of-type th {\n",
       "        text-align: right;\n",
       "    }\n",
       "</style>\n",
       "<table border=\"1\" class=\"dataframe\">\n",
       "  <thead>\n",
       "    <tr>\n",
       "      <th>Attributes</th>\n",
       "      <th colspan=\"3\" halign=\"left\">Adj Close</th>\n",
       "      <th colspan=\"3\" halign=\"left\">Close</th>\n",
       "      <th colspan=\"3\" halign=\"left\">High</th>\n",
       "      <th colspan=\"3\" halign=\"left\">Low</th>\n",
       "      <th colspan=\"3\" halign=\"left\">Open</th>\n",
       "      <th colspan=\"3\" halign=\"left\">Volume</th>\n",
       "    </tr>\n",
       "    <tr>\n",
       "      <th>Symbols</th>\n",
       "      <th>SBIN.NS</th>\n",
       "      <th>HDFCBANK.NS</th>\n",
       "      <th>YESBANK.NS</th>\n",
       "      <th>SBIN.NS</th>\n",
       "      <th>HDFCBANK.NS</th>\n",
       "      <th>YESBANK.NS</th>\n",
       "      <th>SBIN.NS</th>\n",
       "      <th>HDFCBANK.NS</th>\n",
       "      <th>YESBANK.NS</th>\n",
       "      <th>SBIN.NS</th>\n",
       "      <th>HDFCBANK.NS</th>\n",
       "      <th>YESBANK.NS</th>\n",
       "      <th>SBIN.NS</th>\n",
       "      <th>HDFCBANK.NS</th>\n",
       "      <th>YESBANK.NS</th>\n",
       "      <th>SBIN.NS</th>\n",
       "      <th>HDFCBANK.NS</th>\n",
       "      <th>YESBANK.NS</th>\n",
       "    </tr>\n",
       "    <tr>\n",
       "      <th>Date</th>\n",
       "      <th></th>\n",
       "      <th></th>\n",
       "      <th></th>\n",
       "      <th></th>\n",
       "      <th></th>\n",
       "      <th></th>\n",
       "      <th></th>\n",
       "      <th></th>\n",
       "      <th></th>\n",
       "      <th></th>\n",
       "      <th></th>\n",
       "      <th></th>\n",
       "      <th></th>\n",
       "      <th></th>\n",
       "      <th></th>\n",
       "      <th></th>\n",
       "      <th></th>\n",
       "      <th></th>\n",
       "    </tr>\n",
       "  </thead>\n",
       "  <tbody>\n",
       "    <tr>\n",
       "      <th>2018-01-03</th>\n",
       "      <td>302.850006</td>\n",
       "      <td>912.729065</td>\n",
       "      <td>304.984436</td>\n",
       "      <td>302.850006</td>\n",
       "      <td>926.325012</td>\n",
       "      <td>315.850006</td>\n",
       "      <td>306.450012</td>\n",
       "      <td>939.125000</td>\n",
       "      <td>316.500000</td>\n",
       "      <td>302.149994</td>\n",
       "      <td>925.599976</td>\n",
       "      <td>311.149994</td>\n",
       "      <td>305.299988</td>\n",
       "      <td>937.5</td>\n",
       "      <td>312.000000</td>\n",
       "      <td>13857373.0</td>\n",
       "      <td>2265644.0</td>\n",
       "      <td>5672263.0</td>\n",
       "    </tr>\n",
       "    <tr>\n",
       "      <th>2018-01-04</th>\n",
       "      <td>308.500000</td>\n",
       "      <td>916.300903</td>\n",
       "      <td>306.191437</td>\n",
       "      <td>308.500000</td>\n",
       "      <td>929.950012</td>\n",
       "      <td>317.100006</td>\n",
       "      <td>310.200012</td>\n",
       "      <td>932.750000</td>\n",
       "      <td>318.399994</td>\n",
       "      <td>303.149994</td>\n",
       "      <td>926.500000</td>\n",
       "      <td>313.000000</td>\n",
       "      <td>304.500000</td>\n",
       "      <td>926.5</td>\n",
       "      <td>316.000000</td>\n",
       "      <td>24517099.0</td>\n",
       "      <td>1186888.0</td>\n",
       "      <td>5667580.0</td>\n",
       "    </tr>\n",
       "    <tr>\n",
       "      <th>2018-01-05</th>\n",
       "      <td>306.350006</td>\n",
       "      <td>918.123779</td>\n",
       "      <td>321.399628</td>\n",
       "      <td>306.350006</td>\n",
       "      <td>931.799988</td>\n",
       "      <td>332.850006</td>\n",
       "      <td>311.399994</td>\n",
       "      <td>934.025024</td>\n",
       "      <td>337.899994</td>\n",
       "      <td>305.600006</td>\n",
       "      <td>927.775024</td>\n",
       "      <td>317.450012</td>\n",
       "      <td>311.399994</td>\n",
       "      <td>931.5</td>\n",
       "      <td>317.500000</td>\n",
       "      <td>14580575.0</td>\n",
       "      <td>1435434.0</td>\n",
       "      <td>30720675.0</td>\n",
       "    </tr>\n",
       "    <tr>\n",
       "      <th>2018-01-08</th>\n",
       "      <td>305.799988</td>\n",
       "      <td>916.645752</td>\n",
       "      <td>322.123779</td>\n",
       "      <td>305.799988</td>\n",
       "      <td>930.299988</td>\n",
       "      <td>333.600006</td>\n",
       "      <td>309.500000</td>\n",
       "      <td>935.349976</td>\n",
       "      <td>341.299988</td>\n",
       "      <td>305.000000</td>\n",
       "      <td>928.875000</td>\n",
       "      <td>331.299988</td>\n",
       "      <td>307.200012</td>\n",
       "      <td>932.5</td>\n",
       "      <td>336.000000</td>\n",
       "      <td>13557197.0</td>\n",
       "      <td>2285154.0</td>\n",
       "      <td>12747890.0</td>\n",
       "    </tr>\n",
       "    <tr>\n",
       "      <th>2018-01-09</th>\n",
       "      <td>304.299988</td>\n",
       "      <td>918.172974</td>\n",
       "      <td>329.607208</td>\n",
       "      <td>304.299988</td>\n",
       "      <td>931.849976</td>\n",
       "      <td>341.350006</td>\n",
       "      <td>309.500000</td>\n",
       "      <td>934.924988</td>\n",
       "      <td>342.799988</td>\n",
       "      <td>303.299988</td>\n",
       "      <td>927.500000</td>\n",
       "      <td>327.549988</td>\n",
       "      <td>307.500000</td>\n",
       "      <td>931.0</td>\n",
       "      <td>334.899994</td>\n",
       "      <td>15574755.0</td>\n",
       "      <td>2652764.0</td>\n",
       "      <td>13282560.0</td>\n",
       "    </tr>\n",
       "    <tr>\n",
       "      <th>...</th>\n",
       "      <td>...</td>\n",
       "      <td>...</td>\n",
       "      <td>...</td>\n",
       "      <td>...</td>\n",
       "      <td>...</td>\n",
       "      <td>...</td>\n",
       "      <td>...</td>\n",
       "      <td>...</td>\n",
       "      <td>...</td>\n",
       "      <td>...</td>\n",
       "      <td>...</td>\n",
       "      <td>...</td>\n",
       "      <td>...</td>\n",
       "      <td>...</td>\n",
       "      <td>...</td>\n",
       "      <td>...</td>\n",
       "      <td>...</td>\n",
       "      <td>...</td>\n",
       "    </tr>\n",
       "    <tr>\n",
       "      <th>2020-06-12</th>\n",
       "      <td>179.149994</td>\n",
       "      <td>982.750000</td>\n",
       "      <td>29.500000</td>\n",
       "      <td>179.149994</td>\n",
       "      <td>982.750000</td>\n",
       "      <td>29.500000</td>\n",
       "      <td>180.000000</td>\n",
       "      <td>986.650024</td>\n",
       "      <td>29.700001</td>\n",
       "      <td>169.800003</td>\n",
       "      <td>928.000000</td>\n",
       "      <td>28.000000</td>\n",
       "      <td>170.000000</td>\n",
       "      <td>928.0</td>\n",
       "      <td>28.000000</td>\n",
       "      <td>92758901.0</td>\n",
       "      <td>21322438.0</td>\n",
       "      <td>12411225.0</td>\n",
       "    </tr>\n",
       "    <tr>\n",
       "      <th>2020-06-15</th>\n",
       "      <td>173.699997</td>\n",
       "      <td>949.849976</td>\n",
       "      <td>29.000000</td>\n",
       "      <td>173.699997</td>\n",
       "      <td>949.849976</td>\n",
       "      <td>29.000000</td>\n",
       "      <td>177.850006</td>\n",
       "      <td>974.000000</td>\n",
       "      <td>30.799999</td>\n",
       "      <td>172.000000</td>\n",
       "      <td>943.000000</td>\n",
       "      <td>28.799999</td>\n",
       "      <td>177.850006</td>\n",
       "      <td>968.0</td>\n",
       "      <td>30.000000</td>\n",
       "      <td>63613412.0</td>\n",
       "      <td>16004968.0</td>\n",
       "      <td>13439069.0</td>\n",
       "    </tr>\n",
       "    <tr>\n",
       "      <th>2020-06-16</th>\n",
       "      <td>172.899994</td>\n",
       "      <td>990.400024</td>\n",
       "      <td>28.400000</td>\n",
       "      <td>172.899994</td>\n",
       "      <td>990.400024</td>\n",
       "      <td>28.400000</td>\n",
       "      <td>178.949997</td>\n",
       "      <td>993.950012</td>\n",
       "      <td>29.950001</td>\n",
       "      <td>169.399994</td>\n",
       "      <td>952.000000</td>\n",
       "      <td>27.549999</td>\n",
       "      <td>178.000000</td>\n",
       "      <td>975.0</td>\n",
       "      <td>29.500000</td>\n",
       "      <td>63925976.0</td>\n",
       "      <td>22699985.0</td>\n",
       "      <td>22459034.0</td>\n",
       "    </tr>\n",
       "    <tr>\n",
       "      <th>2020-06-17</th>\n",
       "      <td>172.949997</td>\n",
       "      <td>979.250000</td>\n",
       "      <td>27.650000</td>\n",
       "      <td>172.949997</td>\n",
       "      <td>979.250000</td>\n",
       "      <td>27.650000</td>\n",
       "      <td>176.199997</td>\n",
       "      <td>998.900024</td>\n",
       "      <td>28.299999</td>\n",
       "      <td>169.250000</td>\n",
       "      <td>973.250000</td>\n",
       "      <td>27.049999</td>\n",
       "      <td>171.000000</td>\n",
       "      <td>989.0</td>\n",
       "      <td>27.350000</td>\n",
       "      <td>73866905.0</td>\n",
       "      <td>18478919.0</td>\n",
       "      <td>12790776.0</td>\n",
       "    </tr>\n",
       "    <tr>\n",
       "      <th>2020-06-18</th>\n",
       "      <td>179.649994</td>\n",
       "      <td>1019.950012</td>\n",
       "      <td>28.000000</td>\n",
       "      <td>179.649994</td>\n",
       "      <td>1019.950012</td>\n",
       "      <td>28.000000</td>\n",
       "      <td>180.649994</td>\n",
       "      <td>1024.900024</td>\n",
       "      <td>28.200001</td>\n",
       "      <td>171.100006</td>\n",
       "      <td>972.000000</td>\n",
       "      <td>27.400000</td>\n",
       "      <td>172.399994</td>\n",
       "      <td>980.0</td>\n",
       "      <td>27.700001</td>\n",
       "      <td>58261857.0</td>\n",
       "      <td>20435063.0</td>\n",
       "      <td>11550447.0</td>\n",
       "    </tr>\n",
       "  </tbody>\n",
       "</table>\n",
       "<p>600 rows × 18 columns</p>\n",
       "</div>"
      ],
      "text/plain": [
       "Attributes   Adj Close                                Close               \\\n",
       "Symbols        SBIN.NS  HDFCBANK.NS  YESBANK.NS     SBIN.NS  HDFCBANK.NS   \n",
       "Date                                                                       \n",
       "2018-01-03  302.850006   912.729065  304.984436  302.850006   926.325012   \n",
       "2018-01-04  308.500000   916.300903  306.191437  308.500000   929.950012   \n",
       "2018-01-05  306.350006   918.123779  321.399628  306.350006   931.799988   \n",
       "2018-01-08  305.799988   916.645752  322.123779  305.799988   930.299988   \n",
       "2018-01-09  304.299988   918.172974  329.607208  304.299988   931.849976   \n",
       "...                ...          ...         ...         ...          ...   \n",
       "2020-06-12  179.149994   982.750000   29.500000  179.149994   982.750000   \n",
       "2020-06-15  173.699997   949.849976   29.000000  173.699997   949.849976   \n",
       "2020-06-16  172.899994   990.400024   28.400000  172.899994   990.400024   \n",
       "2020-06-17  172.949997   979.250000   27.650000  172.949997   979.250000   \n",
       "2020-06-18  179.649994  1019.950012   28.000000  179.649994  1019.950012   \n",
       "\n",
       "Attributes                    High                                  Low  \\\n",
       "Symbols     YESBANK.NS     SBIN.NS  HDFCBANK.NS  YESBANK.NS     SBIN.NS   \n",
       "Date                                                                      \n",
       "2018-01-03  315.850006  306.450012   939.125000  316.500000  302.149994   \n",
       "2018-01-04  317.100006  310.200012   932.750000  318.399994  303.149994   \n",
       "2018-01-05  332.850006  311.399994   934.025024  337.899994  305.600006   \n",
       "2018-01-08  333.600006  309.500000   935.349976  341.299988  305.000000   \n",
       "2018-01-09  341.350006  309.500000   934.924988  342.799988  303.299988   \n",
       "...                ...         ...          ...         ...         ...   \n",
       "2020-06-12   29.500000  180.000000   986.650024   29.700001  169.800003   \n",
       "2020-06-15   29.000000  177.850006   974.000000   30.799999  172.000000   \n",
       "2020-06-16   28.400000  178.949997   993.950012   29.950001  169.399994   \n",
       "2020-06-17   27.650000  176.199997   998.900024   28.299999  169.250000   \n",
       "2020-06-18   28.000000  180.649994  1024.900024   28.200001  171.100006   \n",
       "\n",
       "Attributes                                Open                          \\\n",
       "Symbols    HDFCBANK.NS  YESBANK.NS     SBIN.NS HDFCBANK.NS  YESBANK.NS   \n",
       "Date                                                                     \n",
       "2018-01-03  925.599976  311.149994  305.299988       937.5  312.000000   \n",
       "2018-01-04  926.500000  313.000000  304.500000       926.5  316.000000   \n",
       "2018-01-05  927.775024  317.450012  311.399994       931.5  317.500000   \n",
       "2018-01-08  928.875000  331.299988  307.200012       932.5  336.000000   \n",
       "2018-01-09  927.500000  327.549988  307.500000       931.0  334.899994   \n",
       "...                ...         ...         ...         ...         ...   \n",
       "2020-06-12  928.000000   28.000000  170.000000       928.0   28.000000   \n",
       "2020-06-15  943.000000   28.799999  177.850006       968.0   30.000000   \n",
       "2020-06-16  952.000000   27.549999  178.000000       975.0   29.500000   \n",
       "2020-06-17  973.250000   27.049999  171.000000       989.0   27.350000   \n",
       "2020-06-18  972.000000   27.400000  172.399994       980.0   27.700001   \n",
       "\n",
       "Attributes      Volume                          \n",
       "Symbols        SBIN.NS HDFCBANK.NS  YESBANK.NS  \n",
       "Date                                            \n",
       "2018-01-03  13857373.0   2265644.0   5672263.0  \n",
       "2018-01-04  24517099.0   1186888.0   5667580.0  \n",
       "2018-01-05  14580575.0   1435434.0  30720675.0  \n",
       "2018-01-08  13557197.0   2285154.0  12747890.0  \n",
       "2018-01-09  15574755.0   2652764.0  13282560.0  \n",
       "...                ...         ...         ...  \n",
       "2020-06-12  92758901.0  21322438.0  12411225.0  \n",
       "2020-06-15  63613412.0  16004968.0  13439069.0  \n",
       "2020-06-16  63925976.0  22699985.0  22459034.0  \n",
       "2020-06-17  73866905.0  18478919.0  12790776.0  \n",
       "2020-06-18  58261857.0  20435063.0  11550447.0  \n",
       "\n",
       "[600 rows x 18 columns]"
      ]
     },
     "execution_count": 284,
     "metadata": {},
     "output_type": "execute_result"
    }
   ],
   "source": [
    "df"
   ]
  },
  {
   "cell_type": "code",
   "execution_count": 285,
   "metadata": {},
   "outputs": [],
   "source": [
    "portfolio2=df['Adj Close']"
   ]
  },
  {
   "cell_type": "code",
   "execution_count": 286,
   "metadata": {},
   "outputs": [
    {
     "data": {
      "text/html": [
       "<div>\n",
       "<style scoped>\n",
       "    .dataframe tbody tr th:only-of-type {\n",
       "        vertical-align: middle;\n",
       "    }\n",
       "\n",
       "    .dataframe tbody tr th {\n",
       "        vertical-align: top;\n",
       "    }\n",
       "\n",
       "    .dataframe thead th {\n",
       "        text-align: right;\n",
       "    }\n",
       "</style>\n",
       "<table border=\"1\" class=\"dataframe\">\n",
       "  <thead>\n",
       "    <tr style=\"text-align: right;\">\n",
       "      <th>Symbols</th>\n",
       "      <th>SBIN.NS</th>\n",
       "      <th>HDFCBANK.NS</th>\n",
       "      <th>YESBANK.NS</th>\n",
       "    </tr>\n",
       "    <tr>\n",
       "      <th>Date</th>\n",
       "      <th></th>\n",
       "      <th></th>\n",
       "      <th></th>\n",
       "    </tr>\n",
       "  </thead>\n",
       "  <tbody>\n",
       "    <tr>\n",
       "      <th>2018-01-03</th>\n",
       "      <td>302.850006</td>\n",
       "      <td>912.729065</td>\n",
       "      <td>304.984436</td>\n",
       "    </tr>\n",
       "    <tr>\n",
       "      <th>2018-01-04</th>\n",
       "      <td>308.500000</td>\n",
       "      <td>916.300903</td>\n",
       "      <td>306.191437</td>\n",
       "    </tr>\n",
       "    <tr>\n",
       "      <th>2018-01-05</th>\n",
       "      <td>306.350006</td>\n",
       "      <td>918.123779</td>\n",
       "      <td>321.399628</td>\n",
       "    </tr>\n",
       "    <tr>\n",
       "      <th>2018-01-08</th>\n",
       "      <td>305.799988</td>\n",
       "      <td>916.645752</td>\n",
       "      <td>322.123779</td>\n",
       "    </tr>\n",
       "    <tr>\n",
       "      <th>2018-01-09</th>\n",
       "      <td>304.299988</td>\n",
       "      <td>918.172974</td>\n",
       "      <td>329.607208</td>\n",
       "    </tr>\n",
       "    <tr>\n",
       "      <th>...</th>\n",
       "      <td>...</td>\n",
       "      <td>...</td>\n",
       "      <td>...</td>\n",
       "    </tr>\n",
       "    <tr>\n",
       "      <th>2020-06-12</th>\n",
       "      <td>179.149994</td>\n",
       "      <td>982.750000</td>\n",
       "      <td>29.500000</td>\n",
       "    </tr>\n",
       "    <tr>\n",
       "      <th>2020-06-15</th>\n",
       "      <td>173.699997</td>\n",
       "      <td>949.849976</td>\n",
       "      <td>29.000000</td>\n",
       "    </tr>\n",
       "    <tr>\n",
       "      <th>2020-06-16</th>\n",
       "      <td>172.899994</td>\n",
       "      <td>990.400024</td>\n",
       "      <td>28.400000</td>\n",
       "    </tr>\n",
       "    <tr>\n",
       "      <th>2020-06-17</th>\n",
       "      <td>172.949997</td>\n",
       "      <td>979.250000</td>\n",
       "      <td>27.650000</td>\n",
       "    </tr>\n",
       "    <tr>\n",
       "      <th>2020-06-18</th>\n",
       "      <td>179.649994</td>\n",
       "      <td>1019.950012</td>\n",
       "      <td>28.000000</td>\n",
       "    </tr>\n",
       "  </tbody>\n",
       "</table>\n",
       "<p>600 rows × 3 columns</p>\n",
       "</div>"
      ],
      "text/plain": [
       "Symbols        SBIN.NS  HDFCBANK.NS  YESBANK.NS\n",
       "Date                                           \n",
       "2018-01-03  302.850006   912.729065  304.984436\n",
       "2018-01-04  308.500000   916.300903  306.191437\n",
       "2018-01-05  306.350006   918.123779  321.399628\n",
       "2018-01-08  305.799988   916.645752  322.123779\n",
       "2018-01-09  304.299988   918.172974  329.607208\n",
       "...                ...          ...         ...\n",
       "2020-06-12  179.149994   982.750000   29.500000\n",
       "2020-06-15  173.699997   949.849976   29.000000\n",
       "2020-06-16  172.899994   990.400024   28.400000\n",
       "2020-06-17  172.949997   979.250000   27.650000\n",
       "2020-06-18  179.649994  1019.950012   28.000000\n",
       "\n",
       "[600 rows x 3 columns]"
      ]
     },
     "execution_count": 286,
     "metadata": {},
     "output_type": "execute_result"
    }
   ],
   "source": [
    "portfolio2"
   ]
  },
  {
   "cell_type": "code",
   "execution_count": 287,
   "metadata": {},
   "outputs": [],
   "source": [
    "portfolio2=portfolio2.pct_change()"
   ]
  },
  {
   "cell_type": "code",
   "execution_count": 288,
   "metadata": {},
   "outputs": [],
   "source": [
    "portfolio1=portfolio2+1"
   ]
  },
  {
   "cell_type": "code",
   "execution_count": 289,
   "metadata": {},
   "outputs": [],
   "source": [
    "log_returns=np.log(portfolio1)"
   ]
  },
  {
   "cell_type": "code",
   "execution_count": 290,
   "metadata": {
    "scrolled": true
   },
   "outputs": [
    {
     "data": {
      "text/html": [
       "<div>\n",
       "<style scoped>\n",
       "    .dataframe tbody tr th:only-of-type {\n",
       "        vertical-align: middle;\n",
       "    }\n",
       "\n",
       "    .dataframe tbody tr th {\n",
       "        vertical-align: top;\n",
       "    }\n",
       "\n",
       "    .dataframe thead th {\n",
       "        text-align: right;\n",
       "    }\n",
       "</style>\n",
       "<table border=\"1\" class=\"dataframe\">\n",
       "  <thead>\n",
       "    <tr style=\"text-align: right;\">\n",
       "      <th>Symbols</th>\n",
       "      <th>SBIN.NS</th>\n",
       "      <th>HDFCBANK.NS</th>\n",
       "      <th>YESBANK.NS</th>\n",
       "    </tr>\n",
       "    <tr>\n",
       "      <th>Date</th>\n",
       "      <th></th>\n",
       "      <th></th>\n",
       "      <th></th>\n",
       "    </tr>\n",
       "  </thead>\n",
       "  <tbody>\n",
       "    <tr>\n",
       "      <th>2018-01-03</th>\n",
       "      <td>NaN</td>\n",
       "      <td>NaN</td>\n",
       "      <td>NaN</td>\n",
       "    </tr>\n",
       "    <tr>\n",
       "      <th>2018-01-04</th>\n",
       "      <td>0.018484</td>\n",
       "      <td>0.003906</td>\n",
       "      <td>0.003950</td>\n",
       "    </tr>\n",
       "    <tr>\n",
       "      <th>2018-01-05</th>\n",
       "      <td>-0.006994</td>\n",
       "      <td>0.001987</td>\n",
       "      <td>0.048475</td>\n",
       "    </tr>\n",
       "    <tr>\n",
       "      <th>2018-01-08</th>\n",
       "      <td>-0.001797</td>\n",
       "      <td>-0.001611</td>\n",
       "      <td>0.002251</td>\n",
       "    </tr>\n",
       "    <tr>\n",
       "      <th>2018-01-09</th>\n",
       "      <td>-0.004917</td>\n",
       "      <td>0.001665</td>\n",
       "      <td>0.022966</td>\n",
       "    </tr>\n",
       "    <tr>\n",
       "      <th>...</th>\n",
       "      <td>...</td>\n",
       "      <td>...</td>\n",
       "      <td>...</td>\n",
       "    </tr>\n",
       "    <tr>\n",
       "      <th>2020-06-12</th>\n",
       "      <td>0.011227</td>\n",
       "      <td>0.014503</td>\n",
       "      <td>-0.010118</td>\n",
       "    </tr>\n",
       "    <tr>\n",
       "      <th>2020-06-15</th>\n",
       "      <td>-0.030894</td>\n",
       "      <td>-0.034051</td>\n",
       "      <td>-0.017094</td>\n",
       "    </tr>\n",
       "    <tr>\n",
       "      <th>2020-06-16</th>\n",
       "      <td>-0.004616</td>\n",
       "      <td>0.041805</td>\n",
       "      <td>-0.020907</td>\n",
       "    </tr>\n",
       "    <tr>\n",
       "      <th>2020-06-17</th>\n",
       "      <td>0.000289</td>\n",
       "      <td>-0.011322</td>\n",
       "      <td>-0.026763</td>\n",
       "    </tr>\n",
       "    <tr>\n",
       "      <th>2020-06-18</th>\n",
       "      <td>0.038008</td>\n",
       "      <td>0.040722</td>\n",
       "      <td>0.012579</td>\n",
       "    </tr>\n",
       "  </tbody>\n",
       "</table>\n",
       "<p>600 rows × 3 columns</p>\n",
       "</div>"
      ],
      "text/plain": [
       "Symbols      SBIN.NS  HDFCBANK.NS  YESBANK.NS\n",
       "Date                                         \n",
       "2018-01-03       NaN          NaN         NaN\n",
       "2018-01-04  0.018484     0.003906    0.003950\n",
       "2018-01-05 -0.006994     0.001987    0.048475\n",
       "2018-01-08 -0.001797    -0.001611    0.002251\n",
       "2018-01-09 -0.004917     0.001665    0.022966\n",
       "...              ...          ...         ...\n",
       "2020-06-12  0.011227     0.014503   -0.010118\n",
       "2020-06-15 -0.030894    -0.034051   -0.017094\n",
       "2020-06-16 -0.004616     0.041805   -0.020907\n",
       "2020-06-17  0.000289    -0.011322   -0.026763\n",
       "2020-06-18  0.038008     0.040722    0.012579\n",
       "\n",
       "[600 rows x 3 columns]"
      ]
     },
     "execution_count": 290,
     "metadata": {},
     "output_type": "execute_result"
    }
   ],
   "source": [
    "log_returns"
   ]
  },
  {
   "cell_type": "code",
   "execution_count": 291,
   "metadata": {},
   "outputs": [
    {
     "data": {
      "text/html": [
       "<div>\n",
       "<style scoped>\n",
       "    .dataframe tbody tr th:only-of-type {\n",
       "        vertical-align: middle;\n",
       "    }\n",
       "\n",
       "    .dataframe tbody tr th {\n",
       "        vertical-align: top;\n",
       "    }\n",
       "\n",
       "    .dataframe thead th {\n",
       "        text-align: right;\n",
       "    }\n",
       "</style>\n",
       "<table border=\"1\" class=\"dataframe\">\n",
       "  <thead>\n",
       "    <tr style=\"text-align: right;\">\n",
       "      <th>Symbols</th>\n",
       "      <th>SBIN.NS</th>\n",
       "      <th>HDFCBANK.NS</th>\n",
       "      <th>YESBANK.NS</th>\n",
       "    </tr>\n",
       "    <tr>\n",
       "      <th>Symbols</th>\n",
       "      <th></th>\n",
       "      <th></th>\n",
       "      <th></th>\n",
       "    </tr>\n",
       "  </thead>\n",
       "  <tbody>\n",
       "    <tr>\n",
       "      <th>SBIN.NS</th>\n",
       "      <td>0.000624</td>\n",
       "      <td>0.000236</td>\n",
       "      <td>0.000344</td>\n",
       "    </tr>\n",
       "    <tr>\n",
       "      <th>HDFCBANK.NS</th>\n",
       "      <td>0.000236</td>\n",
       "      <td>0.000324</td>\n",
       "      <td>-0.000008</td>\n",
       "    </tr>\n",
       "    <tr>\n",
       "      <th>YESBANK.NS</th>\n",
       "      <td>0.000344</td>\n",
       "      <td>-0.000008</td>\n",
       "      <td>0.004651</td>\n",
       "    </tr>\n",
       "  </tbody>\n",
       "</table>\n",
       "</div>"
      ],
      "text/plain": [
       "Symbols       SBIN.NS  HDFCBANK.NS  YESBANK.NS\n",
       "Symbols                                       \n",
       "SBIN.NS      0.000624     0.000236    0.000344\n",
       "HDFCBANK.NS  0.000236     0.000324   -0.000008\n",
       "YESBANK.NS   0.000344    -0.000008    0.004651"
      ]
     },
     "execution_count": 291,
     "metadata": {},
     "output_type": "execute_result"
    }
   ],
   "source": [
    "log_returns.cov()"
   ]
  },
  {
   "cell_type": "code",
   "execution_count": 292,
   "metadata": {},
   "outputs": [
    {
     "data": {
      "text/plain": [
       "<matplotlib.axes._subplots.AxesSubplot at 0x1caf5726608>"
      ]
     },
     "execution_count": 292,
     "metadata": {},
     "output_type": "execute_result"
    },
    {
     "data": {
      "image/png": "[encoded data removed]",
      "text/plain": [
       "<Figure size 432x288 with 1 Axes>"
      ]
     },
     "metadata": {
      "needs_background": "light"
     },
     "output_type": "display_data"
    }
   ],
   "source": [
    "sns.distplot(log_returns,color='blue')"
   ]
  },
  {
   "cell_type": "code",
   "execution_count": 293,
   "metadata": {},
   "outputs": [
    {
     "data": {
      "text/plain": [
       "<matplotlib.axes._subplots.AxesSubplot at 0x1caf59d6588>"
      ]
     },
     "execution_count": 293,
     "metadata": {},
     "output_type": "execute_result"
    },
    {
     "data": {
      "image/png": "[encoded data removed]",
      "text/plain": [
       "<Figure size 432x288 with 1 Axes>"
      ]
     },
     "metadata": {
      "needs_background": "light"
     },
     "output_type": "display_data"
    }
   ],
   "source": [
    "log_returns.plot()"
   ]
  },
  {
   "cell_type": "code",
   "execution_count": 294,
   "metadata": {},
   "outputs": [
    {
     "data": {
      "text/plain": [
       "<matplotlib.axes._subplots.AxesSubplot at 0x1caf59cd508>"
      ]
     },
     "execution_count": 294,
     "metadata": {},
     "output_type": "execute_result"
    },
    {
     "data": {
      "image/png": "[encoded data removed]",
      "text/plain": [
       "<Figure size 432x288 with 1 Axes>"
      ]
     },
     "metadata": {
      "needs_background": "light"
     },
     "output_type": "display_data"
    }
   ],
   "source": [
    "portfolio2.plot()"
   ]
  },
  {
   "cell_type": "code",
   "execution_count": 295,
   "metadata": {},
   "outputs": [
    {
     "data": {
      "text/plain": [
       "array([0.01009333, 0.63129035, 0.79337704])"
      ]
     },
     "execution_count": 295,
     "metadata": {},
     "output_type": "execute_result"
    },
    {
     "data": {
      "image/png": "[encoded data removed]",
      "text/plain": [
       "<Figure size 720x576 with 1 Axes>"
      ]
     },
     "metadata": {
      "needs_background": "light"
     },
     "output_type": "display_data"
    }
   ],
   "source": [
    "df['Adj Close'].plot(figsize=(10,8))\n",
    "weights=np.random.random(3)\n",
    "weights"
   ]
  },
  {
   "cell_type": "code",
   "execution_count": 296,
   "metadata": {},
   "outputs": [],
   "source": [
    "total_portfolios=5000\n",
    "exp_ret=np.zeros(total_portfolios)\n",
    "exp_vol=np.zeros(total_portfolios)\n",
    "exp_ret=np.zeros(total_portfolios)\n",
    "sharpe_ratio=np.zeros(total_portfolios)\n",
    "all_weights=np.zeros([total_portfolios,3])\n",
    "for i in range(total_portfolios):\n",
    "    weights=np.random.random(3)\n",
    "    weights=weights/np.sum(weights)\n",
    "    all_weights[i,:]=weights\n",
    "    exp_ret[i]=np.sum(np.mean(log_returns)*weights*252)\n",
    "    exp_vol[i]=np.sqrt(np.dot(weights.T,np.dot(log_returns.cov(),weights))*252)\n",
    "    sharpe_ratio[i]=exp_ret[i]/exp_vol[i]"
   ]
  },
  {
   "cell_type": "code",
   "execution_count": 297,
   "metadata": {},
   "outputs": [],
   "source": [
    "max_sharp_index=sharpe_ratio.argmax()\n",
    "max_sharp_vol=exp_vol[max_sharp_index]\n",
    "max_sharp_ret=exp_ret[max_sharp_index]\n"
   ]
  },
  {
   "cell_type": "code",
   "execution_count": 298,
   "metadata": {},
   "outputs": [
    {
     "data": {
      "text/plain": [
       "array([0.01287991, 0.97921519, 0.00790489])"
      ]
     },
     "execution_count": 298,
     "metadata": {},
     "output_type": "execute_result"
    }
   ],
   "source": [
    "all_weights[max_sharp_index,:]"
   ]
  },
  {
   "cell_type": "code",
   "execution_count": 299,
   "metadata": {
    "scrolled": false
   },
   "outputs": [
    {
     "data": {
      "text/plain": [
       "<matplotlib.collections.PathCollection at 0x1caf5b8c088>"
      ]
     },
     "execution_count": 299,
     "metadata": {},
     "output_type": "execute_result"
    },
    {
     "data": {
      "image/png": "[encoded data removed]",
      "text/plain": [
       "<Figure size 720x576 with 2 Axes>"
      ]
     },
     "metadata": {
      "needs_background": "light"
     },
     "output_type": "display_data"
    }
   ],
   "source": [
    "plt.figure(figsize=(10,8))\n",
    "plt.scatter(exp_vol,exp_ret,c=sharpe_ratio,cmap='plasma')\n",
    "plt.colorbar(label='Sharpe_ratio')\n",
    "plt.scatter(max_sharp_vol,max_sharp_ret)"
   ]
  },
  {
   "cell_type": "code",
   "execution_count": 300,
   "metadata": {},
   "outputs": [],
   "source": [
    "from scipy import stats"
   ]
  },
  {
   "cell_type": "code",
   "execution_count": 301,
   "metadata": {},
   "outputs": [],
   "source": [
    "niftybank_etf = data.DataReader('^NSEBANK','yahoo',start_date,end_date)"
   ]
  },
  {
   "cell_type": "code",
   "execution_count": 302,
   "metadata": {},
   "outputs": [
    {
     "data": {
      "text/html": [
       "<div>\n",
       "<style scoped>\n",
       "    .dataframe tbody tr th:only-of-type {\n",
       "        vertical-align: middle;\n",
       "    }\n",
       "\n",
       "    .dataframe tbody tr th {\n",
       "        vertical-align: top;\n",
       "    }\n",
       "\n",
       "    .dataframe thead th {\n",
       "        text-align: right;\n",
       "    }\n",
       "</style>\n",
       "<table border=\"1\" class=\"dataframe\">\n",
       "  <thead>\n",
       "    <tr style=\"text-align: right;\">\n",
       "      <th></th>\n",
       "      <th>High</th>\n",
       "      <th>Low</th>\n",
       "      <th>Open</th>\n",
       "      <th>Close</th>\n",
       "      <th>Volume</th>\n",
       "      <th>Adj Close</th>\n",
       "    </tr>\n",
       "    <tr>\n",
       "      <th>Date</th>\n",
       "      <th></th>\n",
       "      <th></th>\n",
       "      <th></th>\n",
       "      <th></th>\n",
       "      <th></th>\n",
       "      <th></th>\n",
       "    </tr>\n",
       "  </thead>\n",
       "  <tbody>\n",
       "    <tr>\n",
       "      <th>2018-01-03</th>\n",
       "      <td>25454.900391</td>\n",
       "      <td>25300.900391</td>\n",
       "      <td>25425.750000</td>\n",
       "      <td>25318.599609</td>\n",
       "      <td>0.0</td>\n",
       "      <td>25318.599609</td>\n",
       "    </tr>\n",
       "    <tr>\n",
       "      <th>2018-01-04</th>\n",
       "      <td>25490.349609</td>\n",
       "      <td>25310.300781</td>\n",
       "      <td>25367.650391</td>\n",
       "      <td>25462.599609</td>\n",
       "      <td>0.0</td>\n",
       "      <td>25462.599609</td>\n",
       "    </tr>\n",
       "    <tr>\n",
       "      <th>2018-01-05</th>\n",
       "      <td>25643.349609</td>\n",
       "      <td>25499.550781</td>\n",
       "      <td>25524.449219</td>\n",
       "      <td>25601.849609</td>\n",
       "      <td>0.0</td>\n",
       "      <td>25601.849609</td>\n",
       "    </tr>\n",
       "    <tr>\n",
       "      <th>2018-01-08</th>\n",
       "      <td>25771.500000</td>\n",
       "      <td>25643.800781</td>\n",
       "      <td>25690.250000</td>\n",
       "      <td>25676.099609</td>\n",
       "      <td>0.0</td>\n",
       "      <td>25676.099609</td>\n",
       "    </tr>\n",
       "    <tr>\n",
       "      <th>2018-01-09</th>\n",
       "      <td>25803.800781</td>\n",
       "      <td>25617.250000</td>\n",
       "      <td>25727.949219</td>\n",
       "      <td>25703.800781</td>\n",
       "      <td>0.0</td>\n",
       "      <td>25703.800781</td>\n",
       "    </tr>\n",
       "  </tbody>\n",
       "</table>\n",
       "</div>"
      ],
      "text/plain": [
       "                    High           Low          Open         Close  Volume  \\\n",
       "Date                                                                         \n",
       "2018-01-03  25454.900391  25300.900391  25425.750000  25318.599609     0.0   \n",
       "2018-01-04  25490.349609  25310.300781  25367.650391  25462.599609     0.0   \n",
       "2018-01-05  25643.349609  25499.550781  25524.449219  25601.849609     0.0   \n",
       "2018-01-08  25771.500000  25643.800781  25690.250000  25676.099609     0.0   \n",
       "2018-01-09  25803.800781  25617.250000  25727.949219  25703.800781     0.0   \n",
       "\n",
       "               Adj Close  \n",
       "Date                      \n",
       "2018-01-03  25318.599609  \n",
       "2018-01-04  25462.599609  \n",
       "2018-01-05  25601.849609  \n",
       "2018-01-08  25676.099609  \n",
       "2018-01-09  25703.800781  "
      ]
     },
     "execution_count": 302,
     "metadata": {},
     "output_type": "execute_result"
    }
   ],
   "source": [
    "niftybank_etf.head()"
   ]
  },
  {
   "cell_type": "code",
   "execution_count": 303,
   "metadata": {},
   "outputs": [],
   "source": [
    "hdfc= data.DataReader('HDFCBANK.NS','yahoo',start_date,end_date)"
   ]
  },
  {
   "cell_type": "code",
   "execution_count": 304,
   "metadata": {},
   "outputs": [
    {
     "data": {
      "text/plain": [
       "<matplotlib.legend.Legend at 0x1caf5bf9208>"
      ]
     },
     "execution_count": 304,
     "metadata": {},
     "output_type": "execute_result"
    },
    {
     "data": {
      "image/png": "[encoded data removed]",
      "text/plain": [
       "<Figure size 720x576 with 1 Axes>"
      ]
     },
     "metadata": {
      "needs_background": "light"
     },
     "output_type": "display_data"
    }
   ],
   "source": [
    "hdfc['Adj Close'].plot(label='HDFC',figsize=(10,8))\n",
    "niftybank_etf['Adj Close'].plot(label='NIFTYBANK Index')\n",
    "plt.legend()"
   ]
  },
  {
   "cell_type": "code",
   "execution_count": 305,
   "metadata": {},
   "outputs": [],
   "source": [
    "hdfc['Daily Return'] = hdfc['Adj Close'].pct_change(1)\n",
    "niftybank_etf['Daily Return'] = niftybank_etf['Adj Close'].pct_change(1)"
   ]
  },
  {
   "cell_type": "code",
   "execution_count": 306,
   "metadata": {},
   "outputs": [
    {
     "data": {
      "text/plain": [
       "<matplotlib.axes._subplots.AxesSubplot at 0x1caf5f32c88>"
      ]
     },
     "execution_count": 306,
     "metadata": {},
     "output_type": "execute_result"
    },
    {
     "data": {
      "image/png": "[encoded data removed]",
      "text/plain": [
       "<Figure size 432x288 with 1 Axes>"
      ]
     },
     "metadata": {
      "needs_background": "light"
     },
     "output_type": "display_data"
    }
   ],
   "source": [
    "hdfc['Daily Return'].hist(bins=100)"
   ]
  },
  {
   "cell_type": "code",
   "execution_count": 307,
   "metadata": {},
   "outputs": [
    {
     "data": {
      "text/plain": [
       "<matplotlib.axes._subplots.AxesSubplot at 0x1caf5eb49c8>"
      ]
     },
     "execution_count": 307,
     "metadata": {},
     "output_type": "execute_result"
    },
    {
     "data": {
      "image/png": "[encoded data removed]",
      "text/plain": [
       "<Figure size 432x288 with 1 Axes>"
      ]
     },
     "metadata": {
      "needs_background": "light"
     },
     "output_type": "display_data"
    }
   ],
   "source": [
    "niftybank_etf['Daily Return'].hist(bins=100)"
   ]
  },
  {
   "cell_type": "code",
   "execution_count": 309,
   "metadata": {},
   "outputs": [],
   "source": [
    "beta,alpha,r_value,p_value,std_err = stats.linregress(hdfc['Daily Return'].iloc[3:],niftybank_etf['Daily Return'].iloc[1:])"
   ]
  },
  {
   "cell_type": "code",
   "execution_count": 310,
   "metadata": {},
   "outputs": [
    {
     "data": {
      "text/plain": [
       "0.659604829489633"
      ]
     },
     "execution_count": 310,
     "metadata": {},
     "output_type": "execute_result"
    }
   ],
   "source": [
    "beta"
   ]
  },
  {
   "cell_type": "code",
   "execution_count": 311,
   "metadata": {},
   "outputs": [
    {
     "data": {
      "text/plain": [
       "-0.0003662160229496112"
      ]
     },
     "execution_count": 311,
     "metadata": {},
     "output_type": "execute_result"
    }
   ],
   "source": [
    "alpha"
   ]
  },
  {
   "cell_type": "code",
   "execution_count": null,
   "metadata": {},
   "outputs": [],
   "source": []
  }
 ],
 "metadata": {
  "kernelspec": {
   "display_name": "Python 3",
   "language": "python",
   "name": "python3"
  },
  "language_info": {
   "codemirror_mode": {
    "name": "ipython",
    "version": 3
   },
   "file_extension": ".py",
   "mimetype": "text/x-python",
   "name": "python",
   "nbconvert_exporter": "python",
   "pygments_lexer": "ipython3",
   "version": "3.7.6"
  }
 },
 "nbformat": 4,
 "nbformat_minor": 2
}
