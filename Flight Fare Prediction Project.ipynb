{
 "cells": [
  {
   "cell_type": "code",
   "execution_count": 10,
   "metadata": {},
   "outputs": [],
   "source": [
    "import pandas as pd\n",
    "import numpy as np\n",
    "import matplotlib.pyplot as plt\n",
    "import seaborn as sns\n",
    "%matplotlib inline"
   ]
  },
  {
   "cell_type": "code",
   "execution_count": 11,
   "metadata": {},
   "outputs": [],
   "source": [
    "train_data=pd.read_excel(r'Data_Train.xlsx')"
   ]
  },
  {
   "cell_type": "code",
   "execution_count": 12,
   "metadata": {},
   "outputs": [
    {
     "data": {
      "text/html": [
       "<div>\n",
       "<style scoped>\n",
       "    .dataframe tbody tr th:only-of-type {\n",
       "        vertical-align: middle;\n",
       "    }\n",
       "\n",
       "    .dataframe tbody tr th {\n",
       "        vertical-align: top;\n",
       "    }\n",
       "\n",
       "    .dataframe thead th {\n",
       "        text-align: right;\n",
       "    }\n",
       "</style>\n",
       "<table border=\"1\" class=\"dataframe\">\n",
       "  <thead>\n",
       "    <tr style=\"text-align: right;\">\n",
       "      <th></th>\n",
       "      <th>Airline</th>\n",
       "      <th>Date_of_Journey</th>\n",
       "      <th>Source</th>\n",
       "      <th>Destination</th>\n",
       "      <th>Route</th>\n",
       "      <th>Dep_Time</th>\n",
       "      <th>Arrival_Time</th>\n",
       "      <th>Duration</th>\n",
       "      <th>Total_Stops</th>\n",
       "      <th>Additional_Info</th>\n",
       "      <th>Price</th>\n",
       "    </tr>\n",
       "  </thead>\n",
       "  <tbody>\n",
       "    <tr>\n",
       "      <th>0</th>\n",
       "      <td>IndiGo</td>\n",
       "      <td>24/03/2019</td>\n",
       "      <td>Banglore</td>\n",
       "      <td>New Delhi</td>\n",
       "      <td>BLR → DEL</td>\n",
       "      <td>22:20</td>\n",
       "      <td>01:10 22 Mar</td>\n",
       "      <td>2h 50m</td>\n",
       "      <td>non-stop</td>\n",
       "      <td>No info</td>\n",
       "      <td>3897</td>\n",
       "    </tr>\n",
       "    <tr>\n",
       "      <th>1</th>\n",
       "      <td>Air India</td>\n",
       "      <td>1/05/2019</td>\n",
       "      <td>Kolkata</td>\n",
       "      <td>Banglore</td>\n",
       "      <td>CCU → IXR → BBI → BLR</td>\n",
       "      <td>05:50</td>\n",
       "      <td>13:15</td>\n",
       "      <td>7h 25m</td>\n",
       "      <td>2 stops</td>\n",
       "      <td>No info</td>\n",
       "      <td>7662</td>\n",
       "    </tr>\n",
       "    <tr>\n",
       "      <th>2</th>\n",
       "      <td>Jet Airways</td>\n",
       "      <td>9/06/2019</td>\n",
       "      <td>Delhi</td>\n",
       "      <td>Cochin</td>\n",
       "      <td>DEL → LKO → BOM → COK</td>\n",
       "      <td>09:25</td>\n",
       "      <td>04:25 10 Jun</td>\n",
       "      <td>19h</td>\n",
       "      <td>2 stops</td>\n",
       "      <td>No info</td>\n",
       "      <td>13882</td>\n",
       "    </tr>\n",
       "    <tr>\n",
       "      <th>3</th>\n",
       "      <td>IndiGo</td>\n",
       "      <td>12/05/2019</td>\n",
       "      <td>Kolkata</td>\n",
       "      <td>Banglore</td>\n",
       "      <td>CCU → NAG → BLR</td>\n",
       "      <td>18:05</td>\n",
       "      <td>23:30</td>\n",
       "      <td>5h 25m</td>\n",
       "      <td>1 stop</td>\n",
       "      <td>No info</td>\n",
       "      <td>6218</td>\n",
       "    </tr>\n",
       "    <tr>\n",
       "      <th>4</th>\n",
       "      <td>IndiGo</td>\n",
       "      <td>01/03/2019</td>\n",
       "      <td>Banglore</td>\n",
       "      <td>New Delhi</td>\n",
       "      <td>BLR → NAG → DEL</td>\n",
       "      <td>16:50</td>\n",
       "      <td>21:35</td>\n",
       "      <td>4h 45m</td>\n",
       "      <td>1 stop</td>\n",
       "      <td>No info</td>\n",
       "      <td>13302</td>\n",
       "    </tr>\n",
       "    <tr>\n",
       "      <th>...</th>\n",
       "      <td>...</td>\n",
       "      <td>...</td>\n",
       "      <td>...</td>\n",
       "      <td>...</td>\n",
       "      <td>...</td>\n",
       "      <td>...</td>\n",
       "      <td>...</td>\n",
       "      <td>...</td>\n",
       "      <td>...</td>\n",
       "      <td>...</td>\n",
       "      <td>...</td>\n",
       "    </tr>\n",
       "    <tr>\n",
       "      <th>10678</th>\n",
       "      <td>Air Asia</td>\n",
       "      <td>9/04/2019</td>\n",
       "      <td>Kolkata</td>\n",
       "      <td>Banglore</td>\n",
       "      <td>CCU → BLR</td>\n",
       "      <td>19:55</td>\n",
       "      <td>22:25</td>\n",
       "      <td>2h 30m</td>\n",
       "      <td>non-stop</td>\n",
       "      <td>No info</td>\n",
       "      <td>4107</td>\n",
       "    </tr>\n",
       "    <tr>\n",
       "      <th>10679</th>\n",
       "      <td>Air India</td>\n",
       "      <td>27/04/2019</td>\n",
       "      <td>Kolkata</td>\n",
       "      <td>Banglore</td>\n",
       "      <td>CCU → BLR</td>\n",
       "      <td>20:45</td>\n",
       "      <td>23:20</td>\n",
       "      <td>2h 35m</td>\n",
       "      <td>non-stop</td>\n",
       "      <td>No info</td>\n",
       "      <td>4145</td>\n",
       "    </tr>\n",
       "    <tr>\n",
       "      <th>10680</th>\n",
       "      <td>Jet Airways</td>\n",
       "      <td>27/04/2019</td>\n",
       "      <td>Banglore</td>\n",
       "      <td>Delhi</td>\n",
       "      <td>BLR → DEL</td>\n",
       "      <td>08:20</td>\n",
       "      <td>11:20</td>\n",
       "      <td>3h</td>\n",
       "      <td>non-stop</td>\n",
       "      <td>No info</td>\n",
       "      <td>7229</td>\n",
       "    </tr>\n",
       "    <tr>\n",
       "      <th>10681</th>\n",
       "      <td>Vistara</td>\n",
       "      <td>01/03/2019</td>\n",
       "      <td>Banglore</td>\n",
       "      <td>New Delhi</td>\n",
       "      <td>BLR → DEL</td>\n",
       "      <td>11:30</td>\n",
       "      <td>14:10</td>\n",
       "      <td>2h 40m</td>\n",
       "      <td>non-stop</td>\n",
       "      <td>No info</td>\n",
       "      <td>12648</td>\n",
       "    </tr>\n",
       "    <tr>\n",
       "      <th>10682</th>\n",
       "      <td>Air India</td>\n",
       "      <td>9/05/2019</td>\n",
       "      <td>Delhi</td>\n",
       "      <td>Cochin</td>\n",
       "      <td>DEL → GOI → BOM → COK</td>\n",
       "      <td>10:55</td>\n",
       "      <td>19:15</td>\n",
       "      <td>8h 20m</td>\n",
       "      <td>2 stops</td>\n",
       "      <td>No info</td>\n",
       "      <td>11753</td>\n",
       "    </tr>\n",
       "  </tbody>\n",
       "</table>\n",
       "<p>10683 rows × 11 columns</p>\n",
       "</div>"
      ],
      "text/plain": [
       "           Airline Date_of_Journey    Source Destination  \\\n",
       "0           IndiGo      24/03/2019  Banglore   New Delhi   \n",
       "1        Air India       1/05/2019   Kolkata    Banglore   \n",
       "2      Jet Airways       9/06/2019     Delhi      Cochin   \n",
       "3           IndiGo      12/05/2019   Kolkata    Banglore   \n",
       "4           IndiGo      01/03/2019  Banglore   New Delhi   \n",
       "...            ...             ...       ...         ...   \n",
       "10678     Air Asia       9/04/2019   Kolkata    Banglore   \n",
       "10679    Air India      27/04/2019   Kolkata    Banglore   \n",
       "10680  Jet Airways      27/04/2019  Banglore       Delhi   \n",
       "10681      Vistara      01/03/2019  Banglore   New Delhi   \n",
       "10682    Air India       9/05/2019     Delhi      Cochin   \n",
       "\n",
       "                       Route Dep_Time  Arrival_Time Duration Total_Stops  \\\n",
       "0                  BLR → DEL    22:20  01:10 22 Mar   2h 50m    non-stop   \n",
       "1      CCU → IXR → BBI → BLR    05:50         13:15   7h 25m     2 stops   \n",
       "2      DEL → LKO → BOM → COK    09:25  04:25 10 Jun      19h     2 stops   \n",
       "3            CCU → NAG → BLR    18:05         23:30   5h 25m      1 stop   \n",
       "4            BLR → NAG → DEL    16:50         21:35   4h 45m      1 stop   \n",
       "...                      ...      ...           ...      ...         ...   \n",
       "10678              CCU → BLR    19:55         22:25   2h 30m    non-stop   \n",
       "10679              CCU → BLR    20:45         23:20   2h 35m    non-stop   \n",
       "10680              BLR → DEL    08:20         11:20       3h    non-stop   \n",
       "10681              BLR → DEL    11:30         14:10   2h 40m    non-stop   \n",
       "10682  DEL → GOI → BOM → COK    10:55         19:15   8h 20m     2 stops   \n",
       "\n",
       "      Additional_Info  Price  \n",
       "0             No info   3897  \n",
       "1             No info   7662  \n",
       "2             No info  13882  \n",
       "3             No info   6218  \n",
       "4             No info  13302  \n",
       "...               ...    ...  \n",
       "10678         No info   4107  \n",
       "10679         No info   4145  \n",
       "10680         No info   7229  \n",
       "10681         No info  12648  \n",
       "10682         No info  11753  \n",
       "\n",
       "[10683 rows x 11 columns]"
      ]
     },
     "execution_count": 12,
     "metadata": {},
     "output_type": "execute_result"
    }
   ],
   "source": [
    "train_data"
   ]
  },
  {
   "cell_type": "code",
   "execution_count": 13,
   "metadata": {},
   "outputs": [],
   "source": [
    "pd.set_option('display.max_columns',None)"
   ]
  },
  {
   "cell_type": "code",
   "execution_count": 14,
   "metadata": {},
   "outputs": [
    {
     "data": {
      "text/html": [
       "<div>\n",
       "<style scoped>\n",
       "    .dataframe tbody tr th:only-of-type {\n",
       "        vertical-align: middle;\n",
       "    }\n",
       "\n",
       "    .dataframe tbody tr th {\n",
       "        vertical-align: top;\n",
       "    }\n",
       "\n",
       "    .dataframe thead th {\n",
       "        text-align: right;\n",
       "    }\n",
       "</style>\n",
       "<table border=\"1\" class=\"dataframe\">\n",
       "  <thead>\n",
       "    <tr style=\"text-align: right;\">\n",
       "      <th></th>\n",
       "      <th>Airline</th>\n",
       "      <th>Date_of_Journey</th>\n",
       "      <th>Source</th>\n",
       "      <th>Destination</th>\n",
       "      <th>Route</th>\n",
       "      <th>Dep_Time</th>\n",
       "      <th>Arrival_Time</th>\n",
       "      <th>Duration</th>\n",
       "      <th>Total_Stops</th>\n",
       "      <th>Additional_Info</th>\n",
       "      <th>Price</th>\n",
       "    </tr>\n",
       "  </thead>\n",
       "  <tbody>\n",
       "    <tr>\n",
       "      <th>0</th>\n",
       "      <td>IndiGo</td>\n",
       "      <td>24/03/2019</td>\n",
       "      <td>Banglore</td>\n",
       "      <td>New Delhi</td>\n",
       "      <td>BLR → DEL</td>\n",
       "      <td>22:20</td>\n",
       "      <td>01:10 22 Mar</td>\n",
       "      <td>2h 50m</td>\n",
       "      <td>non-stop</td>\n",
       "      <td>No info</td>\n",
       "      <td>3897</td>\n",
       "    </tr>\n",
       "    <tr>\n",
       "      <th>1</th>\n",
       "      <td>Air India</td>\n",
       "      <td>1/05/2019</td>\n",
       "      <td>Kolkata</td>\n",
       "      <td>Banglore</td>\n",
       "      <td>CCU → IXR → BBI → BLR</td>\n",
       "      <td>05:50</td>\n",
       "      <td>13:15</td>\n",
       "      <td>7h 25m</td>\n",
       "      <td>2 stops</td>\n",
       "      <td>No info</td>\n",
       "      <td>7662</td>\n",
       "    </tr>\n",
       "    <tr>\n",
       "      <th>2</th>\n",
       "      <td>Jet Airways</td>\n",
       "      <td>9/06/2019</td>\n",
       "      <td>Delhi</td>\n",
       "      <td>Cochin</td>\n",
       "      <td>DEL → LKO → BOM → COK</td>\n",
       "      <td>09:25</td>\n",
       "      <td>04:25 10 Jun</td>\n",
       "      <td>19h</td>\n",
       "      <td>2 stops</td>\n",
       "      <td>No info</td>\n",
       "      <td>13882</td>\n",
       "    </tr>\n",
       "    <tr>\n",
       "      <th>3</th>\n",
       "      <td>IndiGo</td>\n",
       "      <td>12/05/2019</td>\n",
       "      <td>Kolkata</td>\n",
       "      <td>Banglore</td>\n",
       "      <td>CCU → NAG → BLR</td>\n",
       "      <td>18:05</td>\n",
       "      <td>23:30</td>\n",
       "      <td>5h 25m</td>\n",
       "      <td>1 stop</td>\n",
       "      <td>No info</td>\n",
       "      <td>6218</td>\n",
       "    </tr>\n",
       "    <tr>\n",
       "      <th>4</th>\n",
       "      <td>IndiGo</td>\n",
       "      <td>01/03/2019</td>\n",
       "      <td>Banglore</td>\n",
       "      <td>New Delhi</td>\n",
       "      <td>BLR → NAG → DEL</td>\n",
       "      <td>16:50</td>\n",
       "      <td>21:35</td>\n",
       "      <td>4h 45m</td>\n",
       "      <td>1 stop</td>\n",
       "      <td>No info</td>\n",
       "      <td>13302</td>\n",
       "    </tr>\n",
       "  </tbody>\n",
       "</table>\n",
       "</div>"
      ],
      "text/plain": [
       "       Airline Date_of_Journey    Source Destination                  Route  \\\n",
       "0       IndiGo      24/03/2019  Banglore   New Delhi              BLR → DEL   \n",
       "1    Air India       1/05/2019   Kolkata    Banglore  CCU → IXR → BBI → BLR   \n",
       "2  Jet Airways       9/06/2019     Delhi      Cochin  DEL → LKO → BOM → COK   \n",
       "3       IndiGo      12/05/2019   Kolkata    Banglore        CCU → NAG → BLR   \n",
       "4       IndiGo      01/03/2019  Banglore   New Delhi        BLR → NAG → DEL   \n",
       "\n",
       "  Dep_Time  Arrival_Time Duration Total_Stops Additional_Info  Price  \n",
       "0    22:20  01:10 22 Mar   2h 50m    non-stop         No info   3897  \n",
       "1    05:50         13:15   7h 25m     2 stops         No info   7662  \n",
       "2    09:25  04:25 10 Jun      19h     2 stops         No info  13882  \n",
       "3    18:05         23:30   5h 25m      1 stop         No info   6218  \n",
       "4    16:50         21:35   4h 45m      1 stop         No info  13302  "
      ]
     },
     "execution_count": 14,
     "metadata": {},
     "output_type": "execute_result"
    }
   ],
   "source": [
    "train_data.head()"
   ]
  },
  {
   "cell_type": "code",
   "execution_count": 15,
   "metadata": {},
   "outputs": [
    {
     "name": "stdout",
     "output_type": "stream",
     "text": [
      "<class 'pandas.core.frame.DataFrame'>\n",
      "RangeIndex: 10683 entries, 0 to 10682\n",
      "Data columns (total 11 columns):\n",
      " #   Column           Non-Null Count  Dtype \n",
      "---  ------           --------------  ----- \n",
      " 0   Airline          10683 non-null  object\n",
      " 1   Date_of_Journey  10683 non-null  object\n",
      " 2   Source           10683 non-null  object\n",
      " 3   Destination      10683 non-null  object\n",
      " 4   Route            10682 non-null  object\n",
      " 5   Dep_Time         10683 non-null  object\n",
      " 6   Arrival_Time     10683 non-null  object\n",
      " 7   Duration         10683 non-null  object\n",
      " 8   Total_Stops      10682 non-null  object\n",
      " 9   Additional_Info  10683 non-null  object\n",
      " 10  Price            10683 non-null  int64 \n",
      "dtypes: int64(1), object(10)\n",
      "memory usage: 918.2+ KB\n"
     ]
    }
   ],
   "source": [
    "train_data.info()\n",
    "\n"
   ]
  },
  {
   "cell_type": "code",
   "execution_count": 16,
   "metadata": {},
   "outputs": [
    {
     "data": {
      "text/plain": [
       "(10683, 11)"
      ]
     },
     "execution_count": 16,
     "metadata": {},
     "output_type": "execute_result"
    }
   ],
   "source": [
    "train_data.shape"
   ]
  },
  {
   "cell_type": "code",
   "execution_count": 17,
   "metadata": {},
   "outputs": [
    {
     "data": {
      "text/plain": [
       "Airline            0.000000\n",
       "Date_of_Journey    0.000000\n",
       "Source             0.000000\n",
       "Destination        0.000000\n",
       "Route              0.000094\n",
       "Dep_Time           0.000000\n",
       "Arrival_Time       0.000000\n",
       "Duration           0.000000\n",
       "Total_Stops        0.000094\n",
       "Additional_Info    0.000000\n",
       "Price              0.000000\n",
       "dtype: float64"
      ]
     },
     "execution_count": 17,
     "metadata": {},
     "output_type": "execute_result"
    }
   ],
   "source": [
    "train_data.isnull().mean()"
   ]
  },
  {
   "cell_type": "markdown",
   "metadata": {},
   "source": [
    "### Very less NaN values therefore we can drop the NaNs"
   ]
  },
  {
   "cell_type": "code",
   "execution_count": 18,
   "metadata": {},
   "outputs": [
    {
     "data": {
      "text/plain": [
       "(10682, 11)"
      ]
     },
     "execution_count": 18,
     "metadata": {},
     "output_type": "execute_result"
    }
   ],
   "source": [
    "train_data.dropna(inplace=True)\n",
    "train_data.shape"
   ]
  },
  {
   "cell_type": "markdown",
   "metadata": {},
   "source": [
    "# DATA PREPROCESSING\n"
   ]
  },
  {
   "cell_type": "markdown",
   "metadata": {},
   "source": [
    "#### Date of Journey\n",
    "We need to convert string type date and extract date and month \n",
    "since we are having one year data we are not considering year"
   ]
  },
  {
   "cell_type": "code",
   "execution_count": 19,
   "metadata": {},
   "outputs": [],
   "source": [
    "train_data['Journey day']=pd.to_datetime(train_data.Date_of_Journey).dt.day\n",
    "train_data['Journey month']=pd.to_datetime(train_data.Date_of_Journey).dt.month"
   ]
  },
  {
   "cell_type": "code",
   "execution_count": 20,
   "metadata": {},
   "outputs": [],
   "source": [
    "train_data.drop('Date_of_Journey',axis=1,inplace=True)"
   ]
  },
  {
   "cell_type": "markdown",
   "metadata": {},
   "source": [
    " #### Departure Time"
   ]
  },
  {
   "cell_type": "code",
   "execution_count": 21,
   "metadata": {},
   "outputs": [],
   "source": [
    "train_data['Dept_hour']=pd.to_datetime(train_data.Dep_Time).dt.hour\n",
    "train_data['Dept_minute']=pd.to_datetime(train_data.Dep_Time).dt.minute"
   ]
  },
  {
   "cell_type": "code",
   "execution_count": 22,
   "metadata": {},
   "outputs": [],
   "source": [
    "train_data.drop('Dep_Time',axis=1,inplace=True)"
   ]
  },
  {
   "cell_type": "code",
   "execution_count": 23,
   "metadata": {},
   "outputs": [
    {
     "data": {
      "text/html": [
       "<div>\n",
       "<style scoped>\n",
       "    .dataframe tbody tr th:only-of-type {\n",
       "        vertical-align: middle;\n",
       "    }\n",
       "\n",
       "    .dataframe tbody tr th {\n",
       "        vertical-align: top;\n",
       "    }\n",
       "\n",
       "    .dataframe thead th {\n",
       "        text-align: right;\n",
       "    }\n",
       "</style>\n",
       "<table border=\"1\" class=\"dataframe\">\n",
       "  <thead>\n",
       "    <tr style=\"text-align: right;\">\n",
       "      <th></th>\n",
       "      <th>Airline</th>\n",
       "      <th>Source</th>\n",
       "      <th>Destination</th>\n",
       "      <th>Route</th>\n",
       "      <th>Arrival_Time</th>\n",
       "      <th>Duration</th>\n",
       "      <th>Total_Stops</th>\n",
       "      <th>Additional_Info</th>\n",
       "      <th>Price</th>\n",
       "      <th>Journey day</th>\n",
       "      <th>Journey month</th>\n",
       "      <th>Dept_hour</th>\n",
       "      <th>Dept_minute</th>\n",
       "    </tr>\n",
       "  </thead>\n",
       "  <tbody>\n",
       "    <tr>\n",
       "      <th>0</th>\n",
       "      <td>IndiGo</td>\n",
       "      <td>Banglore</td>\n",
       "      <td>New Delhi</td>\n",
       "      <td>BLR → DEL</td>\n",
       "      <td>01:10 22 Mar</td>\n",
       "      <td>2h 50m</td>\n",
       "      <td>non-stop</td>\n",
       "      <td>No info</td>\n",
       "      <td>3897</td>\n",
       "      <td>24</td>\n",
       "      <td>3</td>\n",
       "      <td>22</td>\n",
       "      <td>20</td>\n",
       "    </tr>\n",
       "    <tr>\n",
       "      <th>1</th>\n",
       "      <td>Air India</td>\n",
       "      <td>Kolkata</td>\n",
       "      <td>Banglore</td>\n",
       "      <td>CCU → IXR → BBI → BLR</td>\n",
       "      <td>13:15</td>\n",
       "      <td>7h 25m</td>\n",
       "      <td>2 stops</td>\n",
       "      <td>No info</td>\n",
       "      <td>7662</td>\n",
       "      <td>5</td>\n",
       "      <td>1</td>\n",
       "      <td>5</td>\n",
       "      <td>50</td>\n",
       "    </tr>\n",
       "    <tr>\n",
       "      <th>2</th>\n",
       "      <td>Jet Airways</td>\n",
       "      <td>Delhi</td>\n",
       "      <td>Cochin</td>\n",
       "      <td>DEL → LKO → BOM → COK</td>\n",
       "      <td>04:25 10 Jun</td>\n",
       "      <td>19h</td>\n",
       "      <td>2 stops</td>\n",
       "      <td>No info</td>\n",
       "      <td>13882</td>\n",
       "      <td>6</td>\n",
       "      <td>9</td>\n",
       "      <td>9</td>\n",
       "      <td>25</td>\n",
       "    </tr>\n",
       "    <tr>\n",
       "      <th>3</th>\n",
       "      <td>IndiGo</td>\n",
       "      <td>Kolkata</td>\n",
       "      <td>Banglore</td>\n",
       "      <td>CCU → NAG → BLR</td>\n",
       "      <td>23:30</td>\n",
       "      <td>5h 25m</td>\n",
       "      <td>1 stop</td>\n",
       "      <td>No info</td>\n",
       "      <td>6218</td>\n",
       "      <td>5</td>\n",
       "      <td>12</td>\n",
       "      <td>18</td>\n",
       "      <td>5</td>\n",
       "    </tr>\n",
       "    <tr>\n",
       "      <th>4</th>\n",
       "      <td>IndiGo</td>\n",
       "      <td>Banglore</td>\n",
       "      <td>New Delhi</td>\n",
       "      <td>BLR → NAG → DEL</td>\n",
       "      <td>21:35</td>\n",
       "      <td>4h 45m</td>\n",
       "      <td>1 stop</td>\n",
       "      <td>No info</td>\n",
       "      <td>13302</td>\n",
       "      <td>3</td>\n",
       "      <td>1</td>\n",
       "      <td>16</td>\n",
       "      <td>50</td>\n",
       "    </tr>\n",
       "  </tbody>\n",
       "</table>\n",
       "</div>"
      ],
      "text/plain": [
       "       Airline    Source Destination                  Route  Arrival_Time  \\\n",
       "0       IndiGo  Banglore   New Delhi              BLR → DEL  01:10 22 Mar   \n",
       "1    Air India   Kolkata    Banglore  CCU → IXR → BBI → BLR         13:15   \n",
       "2  Jet Airways     Delhi      Cochin  DEL → LKO → BOM → COK  04:25 10 Jun   \n",
       "3       IndiGo   Kolkata    Banglore        CCU → NAG → BLR         23:30   \n",
       "4       IndiGo  Banglore   New Delhi        BLR → NAG → DEL         21:35   \n",
       "\n",
       "  Duration Total_Stops Additional_Info  Price  Journey day  Journey month  \\\n",
       "0   2h 50m    non-stop         No info   3897           24              3   \n",
       "1   7h 25m     2 stops         No info   7662            5              1   \n",
       "2      19h     2 stops         No info  13882            6              9   \n",
       "3   5h 25m      1 stop         No info   6218            5             12   \n",
       "4   4h 45m      1 stop         No info  13302            3              1   \n",
       "\n",
       "   Dept_hour  Dept_minute  \n",
       "0         22           20  \n",
       "1          5           50  \n",
       "2          9           25  \n",
       "3         18            5  \n",
       "4         16           50  "
      ]
     },
     "execution_count": 23,
     "metadata": {},
     "output_type": "execute_result"
    }
   ],
   "source": [
    "train_data.head()"
   ]
  },
  {
   "cell_type": "markdown",
   "metadata": {},
   "source": [
    "#### Arrival TIme\n"
   ]
  },
  {
   "cell_type": "code",
   "execution_count": 24,
   "metadata": {},
   "outputs": [],
   "source": [
    "train_data['arr_hour']=pd.to_datetime(train_data.Arrival_Time).dt.hour\n",
    "train_data['arr_minute']=pd.to_datetime(train_data.Arrival_Time).dt.minute"
   ]
  },
  {
   "cell_type": "code",
   "execution_count": 25,
   "metadata": {},
   "outputs": [],
   "source": [
    "train_data.drop('Arrival_Time',axis=1,inplace=True)"
   ]
  },
  {
   "cell_type": "code",
   "execution_count": 26,
   "metadata": {},
   "outputs": [
    {
     "data": {
      "text/html": [
       "<div>\n",
       "<style scoped>\n",
       "    .dataframe tbody tr th:only-of-type {\n",
       "        vertical-align: middle;\n",
       "    }\n",
       "\n",
       "    .dataframe tbody tr th {\n",
       "        vertical-align: top;\n",
       "    }\n",
       "\n",
       "    .dataframe thead th {\n",
       "        text-align: right;\n",
       "    }\n",
       "</style>\n",
       "<table border=\"1\" class=\"dataframe\">\n",
       "  <thead>\n",
       "    <tr style=\"text-align: right;\">\n",
       "      <th></th>\n",
       "      <th>Airline</th>\n",
       "      <th>Source</th>\n",
       "      <th>Destination</th>\n",
       "      <th>Route</th>\n",
       "      <th>Duration</th>\n",
       "      <th>Total_Stops</th>\n",
       "      <th>Additional_Info</th>\n",
       "      <th>Price</th>\n",
       "      <th>Journey day</th>\n",
       "      <th>Journey month</th>\n",
       "      <th>Dept_hour</th>\n",
       "      <th>Dept_minute</th>\n",
       "      <th>arr_hour</th>\n",
       "      <th>arr_minute</th>\n",
       "    </tr>\n",
       "  </thead>\n",
       "  <tbody>\n",
       "    <tr>\n",
       "      <th>0</th>\n",
       "      <td>IndiGo</td>\n",
       "      <td>Banglore</td>\n",
       "      <td>New Delhi</td>\n",
       "      <td>BLR → DEL</td>\n",
       "      <td>2h 50m</td>\n",
       "      <td>non-stop</td>\n",
       "      <td>No info</td>\n",
       "      <td>3897</td>\n",
       "      <td>24</td>\n",
       "      <td>3</td>\n",
       "      <td>22</td>\n",
       "      <td>20</td>\n",
       "      <td>1</td>\n",
       "      <td>10</td>\n",
       "    </tr>\n",
       "    <tr>\n",
       "      <th>1</th>\n",
       "      <td>Air India</td>\n",
       "      <td>Kolkata</td>\n",
       "      <td>Banglore</td>\n",
       "      <td>CCU → IXR → BBI → BLR</td>\n",
       "      <td>7h 25m</td>\n",
       "      <td>2 stops</td>\n",
       "      <td>No info</td>\n",
       "      <td>7662</td>\n",
       "      <td>5</td>\n",
       "      <td>1</td>\n",
       "      <td>5</td>\n",
       "      <td>50</td>\n",
       "      <td>13</td>\n",
       "      <td>15</td>\n",
       "    </tr>\n",
       "    <tr>\n",
       "      <th>2</th>\n",
       "      <td>Jet Airways</td>\n",
       "      <td>Delhi</td>\n",
       "      <td>Cochin</td>\n",
       "      <td>DEL → LKO → BOM → COK</td>\n",
       "      <td>19h</td>\n",
       "      <td>2 stops</td>\n",
       "      <td>No info</td>\n",
       "      <td>13882</td>\n",
       "      <td>6</td>\n",
       "      <td>9</td>\n",
       "      <td>9</td>\n",
       "      <td>25</td>\n",
       "      <td>4</td>\n",
       "      <td>25</td>\n",
       "    </tr>\n",
       "    <tr>\n",
       "      <th>3</th>\n",
       "      <td>IndiGo</td>\n",
       "      <td>Kolkata</td>\n",
       "      <td>Banglore</td>\n",
       "      <td>CCU → NAG → BLR</td>\n",
       "      <td>5h 25m</td>\n",
       "      <td>1 stop</td>\n",
       "      <td>No info</td>\n",
       "      <td>6218</td>\n",
       "      <td>5</td>\n",
       "      <td>12</td>\n",
       "      <td>18</td>\n",
       "      <td>5</td>\n",
       "      <td>23</td>\n",
       "      <td>30</td>\n",
       "    </tr>\n",
       "    <tr>\n",
       "      <th>4</th>\n",
       "      <td>IndiGo</td>\n",
       "      <td>Banglore</td>\n",
       "      <td>New Delhi</td>\n",
       "      <td>BLR → NAG → DEL</td>\n",
       "      <td>4h 45m</td>\n",
       "      <td>1 stop</td>\n",
       "      <td>No info</td>\n",
       "      <td>13302</td>\n",
       "      <td>3</td>\n",
       "      <td>1</td>\n",
       "      <td>16</td>\n",
       "      <td>50</td>\n",
       "      <td>21</td>\n",
       "      <td>35</td>\n",
       "    </tr>\n",
       "    <tr>\n",
       "      <th>...</th>\n",
       "      <td>...</td>\n",
       "      <td>...</td>\n",
       "      <td>...</td>\n",
       "      <td>...</td>\n",
       "      <td>...</td>\n",
       "      <td>...</td>\n",
       "      <td>...</td>\n",
       "      <td>...</td>\n",
       "      <td>...</td>\n",
       "      <td>...</td>\n",
       "      <td>...</td>\n",
       "      <td>...</td>\n",
       "      <td>...</td>\n",
       "      <td>...</td>\n",
       "    </tr>\n",
       "    <tr>\n",
       "      <th>10678</th>\n",
       "      <td>Air Asia</td>\n",
       "      <td>Kolkata</td>\n",
       "      <td>Banglore</td>\n",
       "      <td>CCU → BLR</td>\n",
       "      <td>2h 30m</td>\n",
       "      <td>non-stop</td>\n",
       "      <td>No info</td>\n",
       "      <td>4107</td>\n",
       "      <td>4</td>\n",
       "      <td>9</td>\n",
       "      <td>19</td>\n",
       "      <td>55</td>\n",
       "      <td>22</td>\n",
       "      <td>25</td>\n",
       "    </tr>\n",
       "    <tr>\n",
       "      <th>10679</th>\n",
       "      <td>Air India</td>\n",
       "      <td>Kolkata</td>\n",
       "      <td>Banglore</td>\n",
       "      <td>CCU → BLR</td>\n",
       "      <td>2h 35m</td>\n",
       "      <td>non-stop</td>\n",
       "      <td>No info</td>\n",
       "      <td>4145</td>\n",
       "      <td>27</td>\n",
       "      <td>4</td>\n",
       "      <td>20</td>\n",
       "      <td>45</td>\n",
       "      <td>23</td>\n",
       "      <td>20</td>\n",
       "    </tr>\n",
       "    <tr>\n",
       "      <th>10680</th>\n",
       "      <td>Jet Airways</td>\n",
       "      <td>Banglore</td>\n",
       "      <td>Delhi</td>\n",
       "      <td>BLR → DEL</td>\n",
       "      <td>3h</td>\n",
       "      <td>non-stop</td>\n",
       "      <td>No info</td>\n",
       "      <td>7229</td>\n",
       "      <td>27</td>\n",
       "      <td>4</td>\n",
       "      <td>8</td>\n",
       "      <td>20</td>\n",
       "      <td>11</td>\n",
       "      <td>20</td>\n",
       "    </tr>\n",
       "    <tr>\n",
       "      <th>10681</th>\n",
       "      <td>Vistara</td>\n",
       "      <td>Banglore</td>\n",
       "      <td>New Delhi</td>\n",
       "      <td>BLR → DEL</td>\n",
       "      <td>2h 40m</td>\n",
       "      <td>non-stop</td>\n",
       "      <td>No info</td>\n",
       "      <td>12648</td>\n",
       "      <td>3</td>\n",
       "      <td>1</td>\n",
       "      <td>11</td>\n",
       "      <td>30</td>\n",
       "      <td>14</td>\n",
       "      <td>10</td>\n",
       "    </tr>\n",
       "    <tr>\n",
       "      <th>10682</th>\n",
       "      <td>Air India</td>\n",
       "      <td>Delhi</td>\n",
       "      <td>Cochin</td>\n",
       "      <td>DEL → GOI → BOM → COK</td>\n",
       "      <td>8h 20m</td>\n",
       "      <td>2 stops</td>\n",
       "      <td>No info</td>\n",
       "      <td>11753</td>\n",
       "      <td>5</td>\n",
       "      <td>9</td>\n",
       "      <td>10</td>\n",
       "      <td>55</td>\n",
       "      <td>19</td>\n",
       "      <td>15</td>\n",
       "    </tr>\n",
       "  </tbody>\n",
       "</table>\n",
       "<p>10682 rows × 14 columns</p>\n",
       "</div>"
      ],
      "text/plain": [
       "           Airline    Source Destination                  Route Duration  \\\n",
       "0           IndiGo  Banglore   New Delhi              BLR → DEL   2h 50m   \n",
       "1        Air India   Kolkata    Banglore  CCU → IXR → BBI → BLR   7h 25m   \n",
       "2      Jet Airways     Delhi      Cochin  DEL → LKO → BOM → COK      19h   \n",
       "3           IndiGo   Kolkata    Banglore        CCU → NAG → BLR   5h 25m   \n",
       "4           IndiGo  Banglore   New Delhi        BLR → NAG → DEL   4h 45m   \n",
       "...            ...       ...         ...                    ...      ...   \n",
       "10678     Air Asia   Kolkata    Banglore              CCU → BLR   2h 30m   \n",
       "10679    Air India   Kolkata    Banglore              CCU → BLR   2h 35m   \n",
       "10680  Jet Airways  Banglore       Delhi              BLR → DEL       3h   \n",
       "10681      Vistara  Banglore   New Delhi              BLR → DEL   2h 40m   \n",
       "10682    Air India     Delhi      Cochin  DEL → GOI → BOM → COK   8h 20m   \n",
       "\n",
       "      Total_Stops Additional_Info  Price  Journey day  Journey month  \\\n",
       "0        non-stop         No info   3897           24              3   \n",
       "1         2 stops         No info   7662            5              1   \n",
       "2         2 stops         No info  13882            6              9   \n",
       "3          1 stop         No info   6218            5             12   \n",
       "4          1 stop         No info  13302            3              1   \n",
       "...           ...             ...    ...          ...            ...   \n",
       "10678    non-stop         No info   4107            4              9   \n",
       "10679    non-stop         No info   4145           27              4   \n",
       "10680    non-stop         No info   7229           27              4   \n",
       "10681    non-stop         No info  12648            3              1   \n",
       "10682     2 stops         No info  11753            5              9   \n",
       "\n",
       "       Dept_hour  Dept_minute  arr_hour  arr_minute  \n",
       "0             22           20         1          10  \n",
       "1              5           50        13          15  \n",
       "2              9           25         4          25  \n",
       "3             18            5        23          30  \n",
       "4             16           50        21          35  \n",
       "...          ...          ...       ...         ...  \n",
       "10678         19           55        22          25  \n",
       "10679         20           45        23          20  \n",
       "10680          8           20        11          20  \n",
       "10681         11           30        14          10  \n",
       "10682         10           55        19          15  \n",
       "\n",
       "[10682 rows x 14 columns]"
      ]
     },
     "execution_count": 26,
     "metadata": {},
     "output_type": "execute_result"
    }
   ],
   "source": [
    "train_data"
   ]
  },
  {
   "cell_type": "markdown",
   "metadata": {},
   "source": [
    "#### Duration"
   ]
  },
  {
   "cell_type": "code",
   "execution_count": 27,
   "metadata": {},
   "outputs": [],
   "source": [
    "duration=list(train_data['Duration'])\n",
    "for i in range(len(duration)):\n",
    "    if len(duration[i].split())!=2:\n",
    "        if \"h\" in duration[i]:\n",
    "            duration[i]=duration[i].strip()+\"0m\"\n",
    "        else:\n",
    "            duration[i]=\"0h\"+duration[i]\n",
    "\n",
    "duration_hours=[]\n",
    "duration_mins=[]\n",
    "for i in range(len(duration)):\n",
    "    duration_hours.append(int(duration[i].split(sep='h')[0]))\n",
    "    duration_mins.append(duration[i].split(sep='m')[0].split(sep='h')[-1])\n",
    "\n",
    "        "
   ]
  },
  {
   "cell_type": "code",
   "execution_count": 28,
   "metadata": {},
   "outputs": [
    {
     "data": {
      "text/plain": [
       "[' 50',\n",
       " ' 25',\n",
       " '0',\n",
       " ' 25',\n",
       " ' 45',\n",
       " ' 25',\n",
       " ' 30',\n",
       " ' 5',\n",
       " ' 30',\n",
       " ' 50',\n",
       " ' 15',\n",
       " ' 35',\n",
       " ' 15',\n",
       " ' 10',\n",
       " ' 35',\n",
       " ' 35',\n",
       " ' 30',\n",
       " ' 35',\n",
       " '0',\n",
       " ' 35',\n",
       " ' 10',\n",
       " ' 20',\n",
       " ' 50',\n",
       " ' 55',\n",
       " ' 20',\n",
       " ' 10',\n",
       " ' 45',\n",
       " ' 55',\n",
       " ' 50',\n",
       " ' 15',\n",
       " ' 15',\n",
       " ' 25',\n",
       " ' 50',\n",
       " '0',\n",
       " ' 30',\n",
       " ' 25',\n",
       " ' 15',\n",
       " ' 30',\n",
       " ' 15',\n",
       " ' 55',\n",
       " ' 5',\n",
       " ' 30',\n",
       " ' 5',\n",
       " ' 45',\n",
       " '0',\n",
       " ' 50',\n",
       " ' 50',\n",
       " ' 15',\n",
       " ' 5',\n",
       " ' 55',\n",
       " ' 15',\n",
       " ' 20',\n",
       " ' 50',\n",
       " '0',\n",
       " ' 50',\n",
       " ' 15',\n",
       " ' 5',\n",
       " ' 15',\n",
       " ' 30',\n",
       " ' 5',\n",
       " ' 25',\n",
       " ' 20',\n",
       " ' 15',\n",
       " ' 30',\n",
       " ' 15',\n",
       " ' 25',\n",
       " ' 50',\n",
       " ' 30',\n",
       " ' 20',\n",
       " ' 15',\n",
       " ' 25',\n",
       " ' 30',\n",
       " ' 20',\n",
       " ' 30',\n",
       " '0',\n",
       " ' 45',\n",
       " ' 50',\n",
       " ' 30',\n",
       " ' 5',\n",
       " ' 15',\n",
       " ' 50',\n",
       " ' 40',\n",
       " ' 10',\n",
       " ' 35',\n",
       " '0',\n",
       " ' 20',\n",
       " ' 25',\n",
       " ' 45',\n",
       " ' 20',\n",
       " '0',\n",
       " ' 15',\n",
       " ' 5',\n",
       " ' 30',\n",
       " ' 20',\n",
       " ' 35',\n",
       " ' 25',\n",
       " ' 40',\n",
       " '0',\n",
       " ' 25',\n",
       " ' 35',\n",
       " ' 20',\n",
       " ' 15',\n",
       " ' 30',\n",
       " '0',\n",
       " ' 45',\n",
       " ' 55',\n",
       " ' 10',\n",
       " ' 30',\n",
       " ' 20',\n",
       " ' 55',\n",
       " '0',\n",
       " ' 55',\n",
       " ' 45',\n",
       " ' 10',\n",
       " ' 55',\n",
       " ' 25',\n",
       " ' 5',\n",
       " ' 10',\n",
       " ' 40',\n",
       " ' 55',\n",
       " ' 40',\n",
       " ' 25',\n",
       " ' 5',\n",
       " ' 15',\n",
       " ' 25',\n",
       " ' 10',\n",
       " ' 10',\n",
       " '0',\n",
       " ' 50',\n",
       " ' 20',\n",
       " '0',\n",
       " ' 55',\n",
       " ' 10',\n",
       " ' 45',\n",
       " '0',\n",
       " ' 50',\n",
       " ' 40',\n",
       " ' 15',\n",
       " ' 45',\n",
       " ' 50',\n",
       " '0',\n",
       " ' 15',\n",
       " ' 25',\n",
       " ' 35',\n",
       " ' 50',\n",
       " ' 35',\n",
       " ' 25',\n",
       " ' 55',\n",
       " ' 50',\n",
       " ' 10',\n",
       " ' 20',\n",
       " ' 25',\n",
       " ' 50',\n",
       " ' 20',\n",
       " ' 15',\n",
       " ' 35',\n",
       " ' 35',\n",
       " ' 50',\n",
       " ' 45',\n",
       " ' 10',\n",
       " ' 50',\n",
       " ' 45',\n",
       " ' 15',\n",
       " ' 20',\n",
       " ' 30',\n",
       " ' 25',\n",
       " ' 30',\n",
       " ' 40',\n",
       " ' 10',\n",
       " ' 45',\n",
       " ' 35',\n",
       " ' 5',\n",
       " ' 30',\n",
       " ' 30',\n",
       " ' 10',\n",
       " ' 35',\n",
       " ' 5',\n",
       " ' 50',\n",
       " '0',\n",
       " '0',\n",
       " ' 25',\n",
       " ' 30',\n",
       " ' 30',\n",
       " '0',\n",
       " ' 20',\n",
       " ' 30',\n",
       " ' 45',\n",
       " ' 10',\n",
       " ' 35',\n",
       " ' 45',\n",
       " ' 55',\n",
       " ' 35',\n",
       " ' 20',\n",
       " ' 5',\n",
       " ' 40',\n",
       " ' 15',\n",
       " ' 10',\n",
       " ' 25',\n",
       " ' 50',\n",
       " ' 25',\n",
       " ' 15',\n",
       " ' 50',\n",
       " ' 15',\n",
       " ' 50',\n",
       " ' 20',\n",
       " ' 55',\n",
       " ' 35',\n",
       " ' 35',\n",
       " ' 30',\n",
       " ' 20',\n",
       " ' 55',\n",
       " ' 15',\n",
       " ' 5',\n",
       " ' 45',\n",
       " ' 55',\n",
       " ' 30',\n",
       " ' 40',\n",
       " ' 45',\n",
       " ' 55',\n",
       " '0',\n",
       " ' 45',\n",
       " ' 15',\n",
       " ' 25',\n",
       " ' 15',\n",
       " ' 55',\n",
       " ' 50',\n",
       " ' 25',\n",
       " ' 50',\n",
       " ' 30',\n",
       " ' 30',\n",
       " ' 40',\n",
       " ' 35',\n",
       " ' 15',\n",
       " ' 30',\n",
       " ' 45',\n",
       " ' 35',\n",
       " ' 30',\n",
       " ' 55',\n",
       " ' 55',\n",
       " ' 15',\n",
       " ' 40',\n",
       " ' 30',\n",
       " '0',\n",
       " ' 15',\n",
       " ' 15',\n",
       " ' 50',\n",
       " ' 10',\n",
       " ' 25',\n",
       " ' 20',\n",
       " ' 30',\n",
       " ' 10',\n",
       " ' 30',\n",
       " ' 20',\n",
       " ' 35',\n",
       " ' 15',\n",
       " ' 20',\n",
       " ' 45',\n",
       " '0',\n",
       " '0',\n",
       " ' 30',\n",
       " ' 50',\n",
       " ' 55',\n",
       " ' 45',\n",
       " ' 15',\n",
       " ' 35',\n",
       " ' 55',\n",
       " ' 5',\n",
       " ' 5',\n",
       " ' 15',\n",
       " '0',\n",
       " ' 55',\n",
       " '0',\n",
       " ' 15',\n",
       " ' 40',\n",
       " ' 20',\n",
       " ' 25',\n",
       " ' 20',\n",
       " ' 30',\n",
       " ' 45',\n",
       " ' 15',\n",
       " ' 55',\n",
       " ' 20',\n",
       " ' 55',\n",
       " ' 5',\n",
       " ' 40',\n",
       " '0',\n",
       " '0',\n",
       " ' 35',\n",
       " ' 30',\n",
       " ' 55',\n",
       " ' 35',\n",
       " ' 55',\n",
       " ' 15',\n",
       " ' 20',\n",
       " ' 40',\n",
       " '0',\n",
       " ' 10',\n",
       " ' 35',\n",
       " ' 45',\n",
       " ' 35',\n",
       " ' 30',\n",
       " ' 40',\n",
       " ' 35',\n",
       " ' 55',\n",
       " ' 40',\n",
       " ' 25',\n",
       " ' 15',\n",
       " ' 10',\n",
       " ' 45',\n",
       " ' 30',\n",
       " ' 50',\n",
       " '0',\n",
       " ' 30',\n",
       " ' 50',\n",
       " ' 15',\n",
       " ' 30',\n",
       " ' 20',\n",
       " ' 30',\n",
       " ' 25',\n",
       " ' 35',\n",
       " ' 55',\n",
       " ' 35',\n",
       " ' 30',\n",
       " ' 45',\n",
       " ' 20',\n",
       " ' 30',\n",
       " ' 35',\n",
       " ' 45',\n",
       " ' 55',\n",
       " ' 40',\n",
       " ' 5',\n",
       " '0',\n",
       " ' 45',\n",
       " ' 40',\n",
       " ' 55',\n",
       " ' 55',\n",
       " ' 10',\n",
       " ' 20',\n",
       " ' 50',\n",
       " ' 30',\n",
       " '0',\n",
       " ' 45',\n",
       " ' 20',\n",
       " ' 25',\n",
       " ' 20',\n",
       " ' 35',\n",
       " '0',\n",
       " ' 10',\n",
       " ' 20',\n",
       " '0',\n",
       " ' 45',\n",
       " ' 55',\n",
       " ' 40',\n",
       " ' 10',\n",
       " ' 10',\n",
       " ' 50',\n",
       " ' 20',\n",
       " '0',\n",
       " '0',\n",
       " ' 35',\n",
       " ' 5',\n",
       " ' 40',\n",
       " ' 50',\n",
       " ' 5',\n",
       " ' 50',\n",
       " ' 35',\n",
       " ' 25',\n",
       " ' 25',\n",
       " ' 40',\n",
       " ' 55',\n",
       " ' 10',\n",
       " ' 50',\n",
       " ' 50',\n",
       " ' 50',\n",
       " ' 30',\n",
       " ' 30',\n",
       " ' 50',\n",
       " ' 15',\n",
       " ' 10',\n",
       " ' 5',\n",
       " ' 35',\n",
       " ' 5',\n",
       " '0',\n",
       " ' 30',\n",
       " ' 30',\n",
       " ' 20',\n",
       " ' 45',\n",
       " ' 30',\n",
       " ' 35',\n",
       " ' 45',\n",
       " ' 35',\n",
       " ' 30',\n",
       " ' 15',\n",
       " ' 5',\n",
       " '0',\n",
       " ' 50',\n",
       " ' 25',\n",
       " ' 20',\n",
       " ' 45',\n",
       " ' 45',\n",
       " ' 50',\n",
       " '0',\n",
       " ' 25',\n",
       " ' 55',\n",
       " ' 50',\n",
       " ' 40',\n",
       " ' 45',\n",
       " ' 50',\n",
       " ' 15',\n",
       " ' 30',\n",
       " '0',\n",
       " ' 5',\n",
       " ' 20',\n",
       " ' 35',\n",
       " ' 50',\n",
       " ' 50',\n",
       " ' 10',\n",
       " ' 5',\n",
       " ' 30',\n",
       " ' 5',\n",
       " ' 20',\n",
       " ' 55',\n",
       " ' 30',\n",
       " ' 50',\n",
       " ' 15',\n",
       " '0',\n",
       " ' 35',\n",
       " ' 45',\n",
       " ' 55',\n",
       " ' 20',\n",
       " ' 40',\n",
       " '0',\n",
       " ' 25',\n",
       " ' 55',\n",
       " ' 45',\n",
       " ' 15',\n",
       " '0',\n",
       " ' 10',\n",
       " ' 25',\n",
       " ' 40',\n",
       " ' 50',\n",
       " ' 20',\n",
       " ' 20',\n",
       " '0',\n",
       " ' 45',\n",
       " ' 55',\n",
       " ' 20',\n",
       " ' 15',\n",
       " ' 45',\n",
       " ' 55',\n",
       " ' 55',\n",
       " ' 20',\n",
       " ' 25',\n",
       " ' 50',\n",
       " ' 5',\n",
       " ' 15',\n",
       " '0',\n",
       " ' 25',\n",
       " ' 15',\n",
       " ' 10',\n",
       " ' 45',\n",
       " '0',\n",
       " ' 55',\n",
       " ' 45',\n",
       " ' 30',\n",
       " ' 45',\n",
       " ' 40',\n",
       " ' 30',\n",
       " ' 30',\n",
       " ' 40',\n",
       " ' 5',\n",
       " ' 25',\n",
       " ' 30',\n",
       " ' 5',\n",
       " ' 40',\n",
       " ' 50',\n",
       " ' 45',\n",
       " ' 20',\n",
       " '0',\n",
       " ' 15',\n",
       " '0',\n",
       " '0',\n",
       " ' 40',\n",
       " '0',\n",
       " ' 20',\n",
       " ' 20',\n",
       " ' 20',\n",
       " ' 25',\n",
       " ' 20',\n",
       " ' 5',\n",
       " ' 55',\n",
       " ' 45',\n",
       " ' 45',\n",
       " ' 55',\n",
       " ' 15',\n",
       " ' 15',\n",
       " ' 30',\n",
       " '0',\n",
       " '0',\n",
       " ' 10',\n",
       " ' 55',\n",
       " ' 30',\n",
       " ' 20',\n",
       " ' 15',\n",
       " ' 30',\n",
       " ' 20',\n",
       " ' 55',\n",
       " ' 25',\n",
       " ' 30',\n",
       " ' 55',\n",
       " ' 25',\n",
       " ' 25',\n",
       " ' 15',\n",
       " ' 20',\n",
       " ' 10',\n",
       " ' 15',\n",
       " ' 15',\n",
       " ' 30',\n",
       " ' 5',\n",
       " ' 50',\n",
       " ' 25',\n",
       " ' 15',\n",
       " ' 50',\n",
       " ' 15',\n",
       " ' 15',\n",
       " ' 5',\n",
       " ' 35',\n",
       " '0',\n",
       " ' 50',\n",
       " ' 50',\n",
       " ' 20',\n",
       " ' 20',\n",
       " ' 10',\n",
       " ' 35',\n",
       " ' 35',\n",
       " ' 10',\n",
       " '0',\n",
       " ' 35',\n",
       " ' 55',\n",
       " ' 35',\n",
       " ' 40',\n",
       " ' 30',\n",
       " ' 15',\n",
       " ' 55',\n",
       " ' 50',\n",
       " ' 25',\n",
       " ' 40',\n",
       " ' 35',\n",
       " ' 55',\n",
       " ' 25',\n",
       " ' 35',\n",
       " ' 30',\n",
       " ' 15',\n",
       " ' 15',\n",
       " ' 5',\n",
       " ' 50',\n",
       " ' 10',\n",
       " ' 50',\n",
       " ' 30',\n",
       " ' 35',\n",
       " ' 35',\n",
       " ' 35',\n",
       " ' 30',\n",
       " ' 15',\n",
       " ' 35',\n",
       " ' 30',\n",
       " ' 20',\n",
       " '0',\n",
       " ' 35',\n",
       " ' 30',\n",
       " ' 10',\n",
       " ' 55',\n",
       " ' 45',\n",
       " ' 40',\n",
       " ' 5',\n",
       " ' 45',\n",
       " ' 50',\n",
       " ' 20',\n",
       " '0',\n",
       " '0',\n",
       " ' 55',\n",
       " ' 5',\n",
       " ' 35',\n",
       " '0',\n",
       " ' 25',\n",
       " ' 35',\n",
       " ' 40',\n",
       " ' 55',\n",
       " ' 20',\n",
       " '0',\n",
       " ' 40',\n",
       " '0',\n",
       " '0',\n",
       " ' 45',\n",
       " ' 10',\n",
       " ' 20',\n",
       " ' 55',\n",
       " ' 35',\n",
       " ' 55',\n",
       " ' 45',\n",
       " ' 35',\n",
       " ' 30',\n",
       " ' 45',\n",
       " ' 40',\n",
       " ' 50',\n",
       " ' 50',\n",
       " ' 50',\n",
       " ' 30',\n",
       " ' 55',\n",
       " ' 10',\n",
       " ' 55',\n",
       " ' 15',\n",
       " ' 10',\n",
       " ' 55',\n",
       " ' 30',\n",
       " ' 10',\n",
       " ' 35',\n",
       " ' 40',\n",
       " ' 50',\n",
       " ' 30',\n",
       " '0',\n",
       " ' 10',\n",
       " ' 55',\n",
       " '0',\n",
       " '0',\n",
       " ' 45',\n",
       " ' 30',\n",
       " ' 20',\n",
       " ' 10',\n",
       " ' 30',\n",
       " ' 15',\n",
       " ' 35',\n",
       " '0',\n",
       " '0',\n",
       " ' 50',\n",
       " ' 25',\n",
       " ' 5',\n",
       " ' 50',\n",
       " ' 5',\n",
       " ' 15',\n",
       " ' 45',\n",
       " ' 50',\n",
       " ' 30',\n",
       " ' 55',\n",
       " ' 45',\n",
       " ' 50',\n",
       " ' 45',\n",
       " ' 35',\n",
       " ' 30',\n",
       " ' 15',\n",
       " ' 55',\n",
       " ' 45',\n",
       " ' 30',\n",
       " ' 20',\n",
       " ' 30',\n",
       " ' 30',\n",
       " ' 30',\n",
       " '0',\n",
       " ' 15',\n",
       " ' 50',\n",
       " ' 5',\n",
       " ' 35',\n",
       " ' 30',\n",
       " ' 15',\n",
       " ' 45',\n",
       " ' 45',\n",
       " ' 50',\n",
       " ' 35',\n",
       " ' 55',\n",
       " ' 30',\n",
       " ' 40',\n",
       " '0',\n",
       " ' 30',\n",
       " ' 55',\n",
       " ' 10',\n",
       " ' 50',\n",
       " ' 45',\n",
       " ' 30',\n",
       " ' 20',\n",
       " ' 20',\n",
       " ' 55',\n",
       " ' 10',\n",
       " ' 45',\n",
       " ' 50',\n",
       " '0',\n",
       " ' 10',\n",
       " ' 20',\n",
       " ' 45',\n",
       " ' 15',\n",
       " ' 55',\n",
       " ' 30',\n",
       " ' 35',\n",
       " ' 35',\n",
       " ' 45',\n",
       " ' 25',\n",
       " ' 35',\n",
       " ' 30',\n",
       " ' 15',\n",
       " ' 40',\n",
       " ' 25',\n",
       " ' 40',\n",
       " ' 45',\n",
       " ' 20',\n",
       " ' 40',\n",
       " ' 50',\n",
       " ' 20',\n",
       " ' 15',\n",
       " ' 15',\n",
       " ' 45',\n",
       " ' 35',\n",
       " ' 30',\n",
       " ' 30',\n",
       " ' 35',\n",
       " ' 35',\n",
       " ' 50',\n",
       " ' 35',\n",
       " ' 20',\n",
       " ' 45',\n",
       " ' 30',\n",
       " ' 50',\n",
       " ' 30',\n",
       " ' 30',\n",
       " '0',\n",
       " '0',\n",
       " ' 25',\n",
       " ' 35',\n",
       " ' 10',\n",
       " ' 10',\n",
       " ' 55',\n",
       " ' 15',\n",
       " ' 10',\n",
       " ' 55',\n",
       " ' 15',\n",
       " ' 20',\n",
       " ' 25',\n",
       " ' 50',\n",
       " ' 20',\n",
       " ' 20',\n",
       " ' 15',\n",
       " ' 10',\n",
       " ' 40',\n",
       " ' 50',\n",
       " ' 10',\n",
       " ' 5',\n",
       " ' 25',\n",
       " ' 55',\n",
       " '0',\n",
       " ' 45',\n",
       " ' 55',\n",
       " ' 30',\n",
       " ' 15',\n",
       " ' 50',\n",
       " '0',\n",
       " ' 15',\n",
       " ' 30',\n",
       " ' 35',\n",
       " ' 25',\n",
       " '0',\n",
       " ' 30',\n",
       " ' 50',\n",
       " ' 45',\n",
       " ' 30',\n",
       " ' 40',\n",
       " ' 30',\n",
       " ' 50',\n",
       " ' 35',\n",
       " ' 5',\n",
       " ' 50',\n",
       " ' 5',\n",
       " ' 15',\n",
       " ' 25',\n",
       " ' 50',\n",
       " ' 35',\n",
       " ' 50',\n",
       " ' 40',\n",
       " ' 25',\n",
       " ' 10',\n",
       " ' 55',\n",
       " ' 40',\n",
       " ' 50',\n",
       " ' 35',\n",
       " ' 40',\n",
       " ' 40',\n",
       " ' 20',\n",
       " '0',\n",
       " ' 35',\n",
       " ' 10',\n",
       " ' 35',\n",
       " ' 20',\n",
       " ' 10',\n",
       " '0',\n",
       " '0',\n",
       " ' 10',\n",
       " ' 40',\n",
       " ' 35',\n",
       " ' 55',\n",
       " '0',\n",
       " ' 30',\n",
       " ' 35',\n",
       " ' 20',\n",
       " ' 15',\n",
       " ' 50',\n",
       " ' 45',\n",
       " ' 20',\n",
       " ' 40',\n",
       " ' 15',\n",
       " '0',\n",
       " ' 50',\n",
       " '0',\n",
       " ' 20',\n",
       " ' 50',\n",
       " ' 10',\n",
       " ' 10',\n",
       " ' 40',\n",
       " ' 45',\n",
       " ' 50',\n",
       " '0',\n",
       " '0',\n",
       " ' 35',\n",
       " ' 50',\n",
       " ' 55',\n",
       " ' 5',\n",
       " ' 20',\n",
       " ' 55',\n",
       " ' 5',\n",
       " '0',\n",
       " ' 25',\n",
       " ' 45',\n",
       " ' 45',\n",
       " ' 20',\n",
       " ' 15',\n",
       " ' 30',\n",
       " ' 35',\n",
       " '0',\n",
       " ' 50',\n",
       " ' 45',\n",
       " ' 25',\n",
       " ' 25',\n",
       " ' 10',\n",
       " ' 55',\n",
       " ' 50',\n",
       " '0',\n",
       " '0',\n",
       " ' 50',\n",
       " ' 15',\n",
       " ' 15',\n",
       " ' 50',\n",
       " ' 50',\n",
       " '0',\n",
       " ' 30',\n",
       " ' 45',\n",
       " ' 55',\n",
       " ' 45',\n",
       " ' 15',\n",
       " ' 15',\n",
       " ' 50',\n",
       " ' 25',\n",
       " ' 55',\n",
       " ' 25',\n",
       " ' 5',\n",
       " ' 45',\n",
       " ' 15',\n",
       " ' 20',\n",
       " ' 30',\n",
       " ' 20',\n",
       " ' 20',\n",
       " ' 5',\n",
       " ' 30',\n",
       " ' 5',\n",
       " ' 10',\n",
       " '0',\n",
       " ' 5',\n",
       " ' 55',\n",
       " ' 35',\n",
       " ' 10',\n",
       " ' 40',\n",
       " ' 55',\n",
       " ' 30',\n",
       " ' 40',\n",
       " ' 30',\n",
       " ' 10',\n",
       " ' 20',\n",
       " ' 25',\n",
       " ' 10',\n",
       " ' 30',\n",
       " ' 50',\n",
       " ' 45',\n",
       " ' 25',\n",
       " ' 55',\n",
       " ' 25',\n",
       " ' 30',\n",
       " ' 5',\n",
       " ' 5',\n",
       " ' 20',\n",
       " ' 40',\n",
       " ' 30',\n",
       " ' 15',\n",
       " ' 20',\n",
       " ' 50',\n",
       " ' 20',\n",
       " ' 5',\n",
       " ' 25',\n",
       " ' 5',\n",
       " ' 20',\n",
       " ' 25',\n",
       " ' 35',\n",
       " ' 50',\n",
       " ' 35',\n",
       " ' 15',\n",
       " ' 35',\n",
       " '0',\n",
       " ' 25',\n",
       " ' 35',\n",
       " ' 15',\n",
       " ' 35',\n",
       " ' 5',\n",
       " ' 35',\n",
       " ' 30',\n",
       " ' 45',\n",
       " ' 15',\n",
       " ' 15',\n",
       " ' 30',\n",
       " ' 20',\n",
       " ' 30',\n",
       " ' 35',\n",
       " ' 35',\n",
       " ' 30',\n",
       " ' 30',\n",
       " ' 40',\n",
       " '0',\n",
       " ' 30',\n",
       " ' 55',\n",
       " ' 15',\n",
       " ' 55',\n",
       " ' 20',\n",
       " ' 35',\n",
       " ' 20',\n",
       " ' 25',\n",
       " ' 50',\n",
       " '0',\n",
       " ' 25',\n",
       " '0',\n",
       " ' 50',\n",
       " ' 20',\n",
       " ' 45',\n",
       " ' 55',\n",
       " ' 25',\n",
       " ' 55',\n",
       " ' 45',\n",
       " ' 25',\n",
       " ' 40',\n",
       " ' 20',\n",
       " ' 25',\n",
       " ' 50',\n",
       " ' 35',\n",
       " ' 10',\n",
       " ' 25',\n",
       " ' 30',\n",
       " ' 35',\n",
       " ' 5',\n",
       " ' 30',\n",
       " ' 5',\n",
       " ' 20',\n",
       " ' 55',\n",
       " ' 30',\n",
       " ' 35',\n",
       " ' 20',\n",
       " ' 50',\n",
       " ' 50',\n",
       " ' 10',\n",
       " ' 15',\n",
       " ' 25',\n",
       " ' 5',\n",
       " ' 15',\n",
       " ' 10',\n",
       " ' 55',\n",
       " ' 40',\n",
       " ' 30',\n",
       " ' 45',\n",
       " ' 20',\n",
       " ' 15',\n",
       " ' 40',\n",
       " ' 55',\n",
       " ' 30',\n",
       " ' 30',\n",
       " ' 50',\n",
       " ' 15',\n",
       " ' 35',\n",
       " ' 30',\n",
       " ' 40',\n",
       " ' 25',\n",
       " ' 5',\n",
       " ' 15',\n",
       " '0',\n",
       " ' 50',\n",
       " ' 30',\n",
       " ' 40',\n",
       " '0',\n",
       " ' 30',\n",
       " ' 30',\n",
       " ...]"
      ]
     },
     "execution_count": 28,
     "metadata": {},
     "output_type": "execute_result"
    }
   ],
   "source": [
    "duration_mins"
   ]
  },
  {
   "cell_type": "code",
   "execution_count": 29,
   "metadata": {},
   "outputs": [],
   "source": [
    "train_data['Duration hours']=duration_hours\n",
    "train_data['Duration mins']=duration_mins"
   ]
  },
  {
   "cell_type": "code",
   "execution_count": 30,
   "metadata": {},
   "outputs": [],
   "source": [
    "train_data.drop('Duration',axis=1,inplace=True)"
   ]
  },
  {
   "cell_type": "markdown",
   "metadata": {},
   "source": [
    "# CATEGORICAL DATA"
   ]
  },
  {
   "cell_type": "markdown",
   "metadata": {},
   "source": [
    "### Airline"
   ]
  },
  {
   "cell_type": "code",
   "execution_count": 31,
   "metadata": {},
   "outputs": [
    {
     "data": {
      "text/plain": [
       "Jet Airways                          3849\n",
       "IndiGo                               2053\n",
       "Air India                            1751\n",
       "Multiple carriers                    1196\n",
       "SpiceJet                              818\n",
       "Vistara                               479\n",
       "Air Asia                              319\n",
       "GoAir                                 194\n",
       "Multiple carriers Premium economy      13\n",
       "Jet Airways Business                    6\n",
       "Vistara Premium economy                 3\n",
       "Trujet                                  1\n",
       "Name: Airline, dtype: int64"
      ]
     },
     "execution_count": 31,
     "metadata": {},
     "output_type": "execute_result"
    }
   ],
   "source": [
    "train_data['Airline'].value_counts()"
   ]
  },
  {
   "cell_type": "code",
   "execution_count": 32,
   "metadata": {},
   "outputs": [
    {
     "data": {
      "text/plain": [
       "<matplotlib.axes._subplots.AxesSubplot at 0x1db84ddd788>"
      ]
     },
     "execution_count": 32,
     "metadata": {},
     "output_type": "execute_result"
    },
    {
     "data": {
      "image/png": "[encoded data removed]",
      "text/plain": [
       "<Figure size 2160x1440 with 1 Axes>"
      ]
     },
     "metadata": {
      "needs_background": "light"
     },
     "output_type": "display_data"
    }
   ],
   "source": [
    "plt.figure(figsize=(30,20))\n",
    "sns.boxplot(x='Airline',y='Price',data=train_data)\n"
   ]
  },
  {
   "cell_type": "markdown",
   "metadata": {},
   "source": [
    "### Jet Airways Buisness having the maximum price and all others having almost the same price and many features having outliers and since it is a nominal feature we have to perform one hot encoding\n"
   ]
  },
  {
   "cell_type": "code",
   "execution_count": 33,
   "metadata": {},
   "outputs": [
    {
     "data": {
      "text/html": [
       "<div>\n",
       "<style scoped>\n",
       "    .dataframe tbody tr th:only-of-type {\n",
       "        vertical-align: middle;\n",
       "    }\n",
       "\n",
       "    .dataframe tbody tr th {\n",
       "        vertical-align: top;\n",
       "    }\n",
       "\n",
       "    .dataframe thead th {\n",
       "        text-align: right;\n",
       "    }\n",
       "</style>\n",
       "<table border=\"1\" class=\"dataframe\">\n",
       "  <thead>\n",
       "    <tr style=\"text-align: right;\">\n",
       "      <th></th>\n",
       "      <th>Air India</th>\n",
       "      <th>GoAir</th>\n",
       "      <th>IndiGo</th>\n",
       "      <th>Jet Airways</th>\n",
       "      <th>Jet Airways Business</th>\n",
       "      <th>Multiple carriers</th>\n",
       "      <th>Multiple carriers Premium economy</th>\n",
       "      <th>SpiceJet</th>\n",
       "      <th>Trujet</th>\n",
       "      <th>Vistara</th>\n",
       "      <th>Vistara Premium economy</th>\n",
       "    </tr>\n",
       "  </thead>\n",
       "  <tbody>\n",
       "    <tr>\n",
       "      <th>0</th>\n",
       "      <td>0</td>\n",
       "      <td>0</td>\n",
       "      <td>1</td>\n",
       "      <td>0</td>\n",
       "      <td>0</td>\n",
       "      <td>0</td>\n",
       "      <td>0</td>\n",
       "      <td>0</td>\n",
       "      <td>0</td>\n",
       "      <td>0</td>\n",
       "      <td>0</td>\n",
       "    </tr>\n",
       "    <tr>\n",
       "      <th>1</th>\n",
       "      <td>1</td>\n",
       "      <td>0</td>\n",
       "      <td>0</td>\n",
       "      <td>0</td>\n",
       "      <td>0</td>\n",
       "      <td>0</td>\n",
       "      <td>0</td>\n",
       "      <td>0</td>\n",
       "      <td>0</td>\n",
       "      <td>0</td>\n",
       "      <td>0</td>\n",
       "    </tr>\n",
       "    <tr>\n",
       "      <th>2</th>\n",
       "      <td>0</td>\n",
       "      <td>0</td>\n",
       "      <td>0</td>\n",
       "      <td>1</td>\n",
       "      <td>0</td>\n",
       "      <td>0</td>\n",
       "      <td>0</td>\n",
       "      <td>0</td>\n",
       "      <td>0</td>\n",
       "      <td>0</td>\n",
       "      <td>0</td>\n",
       "    </tr>\n",
       "    <tr>\n",
       "      <th>3</th>\n",
       "      <td>0</td>\n",
       "      <td>0</td>\n",
       "      <td>1</td>\n",
       "      <td>0</td>\n",
       "      <td>0</td>\n",
       "      <td>0</td>\n",
       "      <td>0</td>\n",
       "      <td>0</td>\n",
       "      <td>0</td>\n",
       "      <td>0</td>\n",
       "      <td>0</td>\n",
       "    </tr>\n",
       "    <tr>\n",
       "      <th>4</th>\n",
       "      <td>0</td>\n",
       "      <td>0</td>\n",
       "      <td>1</td>\n",
       "      <td>0</td>\n",
       "      <td>0</td>\n",
       "      <td>0</td>\n",
       "      <td>0</td>\n",
       "      <td>0</td>\n",
       "      <td>0</td>\n",
       "      <td>0</td>\n",
       "      <td>0</td>\n",
       "    </tr>\n",
       "  </tbody>\n",
       "</table>\n",
       "</div>"
      ],
      "text/plain": [
       "   Air India  GoAir  IndiGo  Jet Airways  Jet Airways Business  \\\n",
       "0          0      0       1            0                     0   \n",
       "1          1      0       0            0                     0   \n",
       "2          0      0       0            1                     0   \n",
       "3          0      0       1            0                     0   \n",
       "4          0      0       1            0                     0   \n",
       "\n",
       "   Multiple carriers  Multiple carriers Premium economy  SpiceJet  Trujet  \\\n",
       "0                  0                                  0         0       0   \n",
       "1                  0                                  0         0       0   \n",
       "2                  0                                  0         0       0   \n",
       "3                  0                                  0         0       0   \n",
       "4                  0                                  0         0       0   \n",
       "\n",
       "   Vistara  Vistara Premium economy  \n",
       "0        0                        0  \n",
       "1        0                        0  \n",
       "2        0                        0  \n",
       "3        0                        0  \n",
       "4        0                        0  "
      ]
     },
     "execution_count": 33,
     "metadata": {},
     "output_type": "execute_result"
    }
   ],
   "source": [
    "Airline=train_data.Airline\n",
    "Airline=pd.get_dummies(Airline,drop_first=True)\n",
    "Airline.head()"
   ]
  },
  {
   "cell_type": "markdown",
   "metadata": {},
   "source": [
    "### Source"
   ]
  },
  {
   "cell_type": "code",
   "execution_count": 34,
   "metadata": {},
   "outputs": [
    {
     "data": {
      "text/plain": [
       "Delhi       4536\n",
       "Kolkata     2871\n",
       "Banglore    2197\n",
       "Mumbai       697\n",
       "Chennai      381\n",
       "Name: Source, dtype: int64"
      ]
     },
     "execution_count": 34,
     "metadata": {},
     "output_type": "execute_result"
    }
   ],
   "source": [
    "train_data['Source'].value_counts()"
   ]
  },
  {
   "cell_type": "code",
   "execution_count": 35,
   "metadata": {},
   "outputs": [
    {
     "data": {
      "text/plain": [
       "<matplotlib.axes._subplots.AxesSubplot at 0x1db84f5a6c8>"
      ]
     },
     "execution_count": 35,
     "metadata": {},
     "output_type": "execute_result"
    },
    {
     "data": {
      "image/png": "[encoded data removed]",
      "text/plain": [
       "<Figure size 2160x1440 with 1 Axes>"
      ]
     },
     "metadata": {
      "needs_background": "light"
     },
     "output_type": "display_data"
    }
   ],
   "source": [
    "plt.figure(figsize=(30,20))\n",
    "sns.boxplot(x='Source',y='Price',data=train_data)"
   ]
  },
  {
   "cell_type": "markdown",
   "metadata": {},
   "source": [
    "### Outliers are present but more or less similar prices One hot encoding since a nominal feature"
   ]
  },
  {
   "cell_type": "code",
   "execution_count": 36,
   "metadata": {},
   "outputs": [
    {
     "data": {
      "text/html": [
       "<div>\n",
       "<style scoped>\n",
       "    .dataframe tbody tr th:only-of-type {\n",
       "        vertical-align: middle;\n",
       "    }\n",
       "\n",
       "    .dataframe tbody tr th {\n",
       "        vertical-align: top;\n",
       "    }\n",
       "\n",
       "    .dataframe thead th {\n",
       "        text-align: right;\n",
       "    }\n",
       "</style>\n",
       "<table border=\"1\" class=\"dataframe\">\n",
       "  <thead>\n",
       "    <tr style=\"text-align: right;\">\n",
       "      <th></th>\n",
       "      <th>source_Chennai</th>\n",
       "      <th>source_Delhi</th>\n",
       "      <th>source_Kolkata</th>\n",
       "      <th>source_Mumbai</th>\n",
       "    </tr>\n",
       "  </thead>\n",
       "  <tbody>\n",
       "    <tr>\n",
       "      <th>0</th>\n",
       "      <td>0</td>\n",
       "      <td>0</td>\n",
       "      <td>0</td>\n",
       "      <td>0</td>\n",
       "    </tr>\n",
       "    <tr>\n",
       "      <th>1</th>\n",
       "      <td>0</td>\n",
       "      <td>0</td>\n",
       "      <td>1</td>\n",
       "      <td>0</td>\n",
       "    </tr>\n",
       "    <tr>\n",
       "      <th>2</th>\n",
       "      <td>0</td>\n",
       "      <td>1</td>\n",
       "      <td>0</td>\n",
       "      <td>0</td>\n",
       "    </tr>\n",
       "    <tr>\n",
       "      <th>3</th>\n",
       "      <td>0</td>\n",
       "      <td>0</td>\n",
       "      <td>1</td>\n",
       "      <td>0</td>\n",
       "    </tr>\n",
       "    <tr>\n",
       "      <th>4</th>\n",
       "      <td>0</td>\n",
       "      <td>0</td>\n",
       "      <td>0</td>\n",
       "      <td>0</td>\n",
       "    </tr>\n",
       "    <tr>\n",
       "      <th>...</th>\n",
       "      <td>...</td>\n",
       "      <td>...</td>\n",
       "      <td>...</td>\n",
       "      <td>...</td>\n",
       "    </tr>\n",
       "    <tr>\n",
       "      <th>10678</th>\n",
       "      <td>0</td>\n",
       "      <td>0</td>\n",
       "      <td>1</td>\n",
       "      <td>0</td>\n",
       "    </tr>\n",
       "    <tr>\n",
       "      <th>10679</th>\n",
       "      <td>0</td>\n",
       "      <td>0</td>\n",
       "      <td>1</td>\n",
       "      <td>0</td>\n",
       "    </tr>\n",
       "    <tr>\n",
       "      <th>10680</th>\n",
       "      <td>0</td>\n",
       "      <td>0</td>\n",
       "      <td>0</td>\n",
       "      <td>0</td>\n",
       "    </tr>\n",
       "    <tr>\n",
       "      <th>10681</th>\n",
       "      <td>0</td>\n",
       "      <td>0</td>\n",
       "      <td>0</td>\n",
       "      <td>0</td>\n",
       "    </tr>\n",
       "    <tr>\n",
       "      <th>10682</th>\n",
       "      <td>0</td>\n",
       "      <td>1</td>\n",
       "      <td>0</td>\n",
       "      <td>0</td>\n",
       "    </tr>\n",
       "  </tbody>\n",
       "</table>\n",
       "<p>10682 rows × 4 columns</p>\n",
       "</div>"
      ],
      "text/plain": [
       "       source_Chennai  source_Delhi  source_Kolkata  source_Mumbai\n",
       "0                   0             0               0              0\n",
       "1                   0             0               1              0\n",
       "2                   0             1               0              0\n",
       "3                   0             0               1              0\n",
       "4                   0             0               0              0\n",
       "...               ...           ...             ...            ...\n",
       "10678               0             0               1              0\n",
       "10679               0             0               1              0\n",
       "10680               0             0               0              0\n",
       "10681               0             0               0              0\n",
       "10682               0             1               0              0\n",
       "\n",
       "[10682 rows x 4 columns]"
      ]
     },
     "execution_count": 36,
     "metadata": {},
     "output_type": "execute_result"
    }
   ],
   "source": [
    "Source=train_data.Source\n",
    "Source=pd.get_dummies(Source,drop_first=True)\n",
    "Source.head()\n",
    "Source.columns=['source_Chennai','source_Delhi','source_Kolkata','source_Mumbai']\n",
    "Source"
   ]
  },
  {
   "cell_type": "markdown",
   "metadata": {},
   "source": [
    "### Destination"
   ]
  },
  {
   "cell_type": "code",
   "execution_count": 37,
   "metadata": {},
   "outputs": [
    {
     "data": {
      "text/plain": [
       "Cochin       4536\n",
       "Banglore     2871\n",
       "Delhi        1265\n",
       "New Delhi     932\n",
       "Hyderabad     697\n",
       "Kolkata       381\n",
       "Name: Destination, dtype: int64"
      ]
     },
     "execution_count": 37,
     "metadata": {},
     "output_type": "execute_result"
    }
   ],
   "source": [
    "train_data['Destination'].value_counts()"
   ]
  },
  {
   "cell_type": "code",
   "execution_count": 38,
   "metadata": {},
   "outputs": [
    {
     "data": {
      "text/plain": [
       "<matplotlib.axes._subplots.AxesSubplot at 0x1db83dbcdc8>"
      ]
     },
     "execution_count": 38,
     "metadata": {},
     "output_type": "execute_result"
    },
    {
     "data": {
      "image/png": "[encoded data removed]",
      "text/plain": [
       "<Figure size 2160x1440 with 1 Axes>"
      ]
     },
     "metadata": {
      "needs_background": "light"
     },
     "output_type": "display_data"
    }
   ],
   "source": [
    "plt.figure(figsize=(30,20))\n",
    "sns.boxplot(x='Destination',y='Price',data=train_data)"
   ]
  },
  {
   "cell_type": "code",
   "execution_count": 39,
   "metadata": {},
   "outputs": [],
   "source": [
    "Dest=train_data.Destination\n",
    "Dest=pd.get_dummies(Dest,drop_first=True)\n",
    "Dest.head()\n",
    "Dest.columns=['Dest_Cochin','Dest_Delhi','Dest_Hyderabad','Dest_Kolkata','Dest_New Delhi']"
   ]
  },
  {
   "cell_type": "markdown",
   "metadata": {},
   "source": [
    "### Stops"
   ]
  },
  {
   "cell_type": "code",
   "execution_count": 40,
   "metadata": {},
   "outputs": [
    {
     "data": {
      "text/plain": [
       "1 stop      5625\n",
       "non-stop    3491\n",
       "2 stops     1520\n",
       "3 stops       45\n",
       "4 stops        1\n",
       "Name: Total_Stops, dtype: int64"
      ]
     },
     "execution_count": 40,
     "metadata": {},
     "output_type": "execute_result"
    }
   ],
   "source": [
    "train_data.Total_Stops.value_counts()"
   ]
  },
  {
   "cell_type": "code",
   "execution_count": 41,
   "metadata": {},
   "outputs": [
    {
     "data": {
      "text/plain": [
       "<matplotlib.axes._subplots.AxesSubplot at 0x1db84f99f88>"
      ]
     },
     "execution_count": 41,
     "metadata": {},
     "output_type": "execute_result"
    },
    {
     "data": {
      "image/png": "[encoded data removed]",
      "text/plain": [
       "<Figure size 2160x1440 with 1 Axes>"
      ]
     },
     "metadata": {
      "needs_background": "light"
     },
     "output_type": "display_data"
    }
   ],
   "source": [
    "plt.figure(figsize=(30,20))\n",
    "sns.boxplot(x='Total_Stops',y='Price',data=train_data)"
   ]
  },
  {
   "cell_type": "code",
   "execution_count": 42,
   "metadata": {},
   "outputs": [],
   "source": [
    "train_data.replace({\"non-stop\":0,\"1 stop\":1,\"2 stops\":2,\"3 stops\":3,\"4 stops\":4},inplace=True)"
   ]
  },
  {
   "cell_type": "code",
   "execution_count": 43,
   "metadata": {},
   "outputs": [
    {
     "data": {
      "text/plain": [
       "<matplotlib.axes._subplots.AxesSubplot at 0x1db8518b048>"
      ]
     },
     "execution_count": 43,
     "metadata": {},
     "output_type": "execute_result"
    },
    {
     "data": {
      "image/png": "[encoded data removed]",
      "text/plain": [
       "<Figure size 432x288 with 1 Axes>"
      ]
     },
     "metadata": {
      "needs_background": "light"
     },
     "output_type": "display_data"
    }
   ],
   "source": [
    "train_data.groupby('Total_Stops')['Price'].median().plot(kind='bar')"
   ]
  },
  {
   "cell_type": "code",
   "execution_count": 44,
   "metadata": {},
   "outputs": [],
   "source": [
    "data_train=pd.concat([train_data,Airline,Source,Dest],axis=1)"
   ]
  },
  {
   "cell_type": "code",
   "execution_count": 45,
   "metadata": {},
   "outputs": [],
   "source": [
    "data_train.drop(['Airline','Source','Destination'],axis=1,inplace=True)"
   ]
  },
  {
   "cell_type": "markdown",
   "metadata": {},
   "source": [
    "### Additional Info has 80 percent no information and route is same as total stops"
   ]
  },
  {
   "cell_type": "code",
   "execution_count": 46,
   "metadata": {},
   "outputs": [],
   "source": [
    "data_train.drop(['Route','Additional_Info'],axis=1,inplace=True)"
   ]
  },
  {
   "cell_type": "markdown",
   "metadata": {},
   "source": [
    "# FEATURE SELECTION\n",
    "\n",
    "Methods are KBest,Feature importance,correlation "
   ]
  },
  {
   "cell_type": "code",
   "execution_count": 47,
   "metadata": {},
   "outputs": [
    {
     "data": {
      "text/plain": [
       "(10682, 30)"
      ]
     },
     "execution_count": 47,
     "metadata": {},
     "output_type": "execute_result"
    }
   ],
   "source": [
    "data_train.shape"
   ]
  },
  {
   "cell_type": "code",
   "execution_count": 48,
   "metadata": {},
   "outputs": [
    {
     "data": {
      "text/plain": [
       "Index(['Total_Stops', 'Price', 'Journey day', 'Journey month', 'Dept_hour',\n",
       "       'Dept_minute', 'arr_hour', 'arr_minute', 'Duration hours',\n",
       "       'Duration mins', 'Air India', 'GoAir', 'IndiGo', 'Jet Airways',\n",
       "       'Jet Airways Business', 'Multiple carriers',\n",
       "       'Multiple carriers Premium economy', 'SpiceJet', 'Trujet', 'Vistara',\n",
       "       'Vistara Premium economy', 'source_Chennai', 'source_Delhi',\n",
       "       'source_Kolkata', 'source_Mumbai', 'Dest_Cochin', 'Dest_Delhi',\n",
       "       'Dest_Hyderabad', 'Dest_Kolkata', 'Dest_New Delhi'],\n",
       "      dtype='object')"
      ]
     },
     "execution_count": 48,
     "metadata": {},
     "output_type": "execute_result"
    }
   ],
   "source": [
    "data_train.columns"
   ]
  },
  {
   "cell_type": "code",
   "execution_count": 49,
   "metadata": {},
   "outputs": [],
   "source": [
    "X=data_train.loc[:,['Total_Stops','Journey day', 'Journey month', 'Dept_hour',\n",
    "       'Dept_minute', 'arr_hour', 'arr_minute', 'Duration hours',\n",
    "       'Duration mins', 'Air India', 'GoAir', 'IndiGo', 'Jet Airways',\n",
    "       'Jet Airways Business', 'Multiple carriers',\n",
    "       'Multiple carriers Premium economy', 'SpiceJet', 'Trujet', 'Vistara',\n",
    "       'Vistara Premium economy', 'source_Chennai', 'source_Delhi',\n",
    "       'source_Kolkata', 'source_Mumbai', 'Dest_Cochin', 'Dest_Delhi',\n",
    "       'Dest_Hyderabad', 'Dest_Kolkata', 'Dest_New Delhi']]\n",
    "y=data_train.loc[:,'Price']"
   ]
  },
  {
   "cell_type": "code",
   "execution_count": 50,
   "metadata": {},
   "outputs": [
    {
     "data": {
      "text/plain": [
       "0         3897\n",
       "1         7662\n",
       "2        13882\n",
       "3         6218\n",
       "4        13302\n",
       "         ...  \n",
       "10678     4107\n",
       "10679     4145\n",
       "10680     7229\n",
       "10681    12648\n",
       "10682    11753\n",
       "Name: Price, Length: 10682, dtype: int64"
      ]
     },
     "execution_count": 50,
     "metadata": {},
     "output_type": "execute_result"
    }
   ],
   "source": [
    "y"
   ]
  },
  {
   "cell_type": "code",
   "execution_count": 51,
   "metadata": {},
   "outputs": [
    {
     "data": {
      "text/plain": [
       "<matplotlib.axes._subplots.AxesSubplot at 0x1db872f51c8>"
      ]
     },
     "execution_count": 51,
     "metadata": {},
     "output_type": "execute_result"
    },
    {
     "data": {
      "image/png": "[encoded data removed]",
      "text/plain": [
       "<Figure size 1440x1440 with 2 Axes>"
      ]
     },
     "metadata": {
      "needs_background": "light"
     },
     "output_type": "display_data"
    }
   ],
   "source": [
    "plt.figure(figsize=(20,20))\n",
    "sns.heatmap(train_data.corr(),annot=True)"
   ]
  },
  {
   "cell_type": "code",
   "execution_count": 52,
   "metadata": {},
   "outputs": [
    {
     "data": {
      "text/plain": [
       "ExtraTreesRegressor()"
      ]
     },
     "execution_count": 52,
     "metadata": {},
     "output_type": "execute_result"
    }
   ],
   "source": [
    "#ExtraTree Regressor \n",
    "from sklearn.ensemble import ExtraTreesRegressor\n",
    "select_features=ExtraTreesRegressor()\n",
    "select_features.fit(X,y)"
   ]
  },
  {
   "cell_type": "code",
   "execution_count": 53,
   "metadata": {},
   "outputs": [
    {
     "data": {
      "text/plain": [
       "<matplotlib.axes._subplots.AxesSubplot at 0x1db87c97188>"
      ]
     },
     "execution_count": 53,
     "metadata": {},
     "output_type": "execute_result"
    },
    {
     "data": {
      "image/png": "[encoded data removed]",
      "text/plain": [
       "<Figure size 720x720 with 1 Axes>"
      ]
     },
     "metadata": {
      "needs_background": "light"
     },
     "output_type": "display_data"
    }
   ],
   "source": [
    "plt.figure(figsize=(10,10))\n",
    "feature_importance=pd.Series(select_features.feature_importances_,index=X.columns)\n",
    "feature_importance.nlargest(20).plot(kind='barh')"
   ]
  },
  {
   "cell_type": "markdown",
   "metadata": {},
   "source": [
    "# FITTING MODELS \n",
    "RANDOM FOREST"
   ]
  },
  {
   "cell_type": "code",
   "execution_count": 54,
   "metadata": {},
   "outputs": [],
   "source": [
    "from sklearn.model_selection import train_test_split"
   ]
  },
  {
   "cell_type": "code",
   "execution_count": 55,
   "metadata": {},
   "outputs": [],
   "source": [
    "X_train, X_test, y_train, y_test = train_test_split(X, y, test_size=0.2, random_state=42)"
   ]
  },
  {
   "cell_type": "code",
   "execution_count": 56,
   "metadata": {},
   "outputs": [
    {
     "data": {
      "text/plain": [
       "RandomForestRegressor()"
      ]
     },
     "execution_count": 56,
     "metadata": {},
     "output_type": "execute_result"
    }
   ],
   "source": [
    "from sklearn.ensemble import RandomForestRegressor\n",
    "reg_rf=RandomForestRegressor()\n",
    "reg_rf.fit(X_train,y_train)"
   ]
  },
  {
   "cell_type": "code",
   "execution_count": 57,
   "metadata": {},
   "outputs": [],
   "source": [
    "y_pred=reg_rf.predict(X_test)"
   ]
  },
  {
   "cell_type": "code",
   "execution_count": 58,
   "metadata": {},
   "outputs": [
    {
     "data": {
      "text/plain": [
       "0.9522429119899142"
      ]
     },
     "execution_count": 58,
     "metadata": {},
     "output_type": "execute_result"
    }
   ],
   "source": [
    "reg_rf.score(X_train,y_train)"
   ]
  },
  {
   "cell_type": "code",
   "execution_count": 59,
   "metadata": {},
   "outputs": [
    {
     "data": {
      "text/plain": [
       "0.7881378800139772"
      ]
     },
     "execution_count": 59,
     "metadata": {},
     "output_type": "execute_result"
    }
   ],
   "source": [
    "reg_rf.score(X_test,y_test)"
   ]
  },
  {
   "cell_type": "code",
   "execution_count": 60,
   "metadata": {},
   "outputs": [
    {
     "data": {
      "text/plain": [
       "<matplotlib.collections.PathCollection at 0x1db874dc748>"
      ]
     },
     "execution_count": 60,
     "metadata": {},
     "output_type": "execute_result"
    },
    {
     "data": {
      "image/png": "[encoded data removed]",
      "text/plain": [
       "<Figure size 432x288 with 1 Axes>"
      ]
     },
     "metadata": {
      "needs_background": "light"
     },
     "output_type": "display_data"
    }
   ],
   "source": [
    "plt.scatter(y_test,y_pred)"
   ]
  },
  {
   "cell_type": "markdown",
   "metadata": {},
   "source": [
    "# HYPERPARAMETER TUNING\n"
   ]
  },
  {
   "cell_type": "code",
   "execution_count": 61,
   "metadata": {},
   "outputs": [],
   "source": [
    "from sklearn.model_selection import RandomizedSearchCV"
   ]
  },
  {
   "cell_type": "code",
   "execution_count": 62,
   "metadata": {},
   "outputs": [],
   "source": [
    "n_estimators=[int(x) for x in np.linspace(start=100,stop=1300,num=13)]\n",
    "max_features=['auto','sqrt','log2']\n",
    "max_depth=[int(x) for x in np.linspace(5,30,num=6)]\n",
    "min_samples_split=[2,5,10,15,100]\n",
    "min_samples_leaf=[1,2,5,10]"
   ]
  },
  {
   "cell_type": "code",
   "execution_count": 63,
   "metadata": {},
   "outputs": [],
   "source": [
    "random_grid={'n_estimators':n_estimators,'max_features':max_features,'max_depth':max_depth,'min_samples_split':min_samples_split,'min_samples_leaf':min_samples_leaf}\n",
    "             \n",
    "            "
   ]
  },
  {
   "cell_type": "code",
   "execution_count": 64,
   "metadata": {},
   "outputs": [],
   "source": [
    "rf_rand=RandomizedSearchCV(estimator=reg_rf,param_distributions=random_grid,scoring='neg_mean_squared_error',cv=5,verbose=2,n_jobs=1)"
   ]
  },
  {
   "cell_type": "code",
   "execution_count": 65,
   "metadata": {},
   "outputs": [
    {
     "name": "stdout",
     "output_type": "stream",
     "text": [
      "Fitting 5 folds for each of 10 candidates, totalling 50 fits\n",
      "[CV] n_estimators=900, min_samples_split=10, min_samples_leaf=2, max_features=sqrt, max_depth=30 \n"
     ]
    },
    {
     "name": "stderr",
     "output_type": "stream",
     "text": [
      "[Parallel(n_jobs=1)]: Using backend SequentialBackend with 1 concurrent workers.\n"
     ]
    },
    {
     "name": "stdout",
     "output_type": "stream",
     "text": [
      "[CV]  n_estimators=900, min_samples_split=10, min_samples_leaf=2, max_features=sqrt, max_depth=30, total=   4.9s\n",
      "[CV] n_estimators=900, min_samples_split=10, min_samples_leaf=2, max_features=sqrt, max_depth=30 \n"
     ]
    },
    {
     "name": "stderr",
     "output_type": "stream",
     "text": [
      "[Parallel(n_jobs=1)]: Done   1 out of   1 | elapsed:    4.8s remaining:    0.0s\n"
     ]
    },
    {
     "name": "stdout",
     "output_type": "stream",
     "text": [
      "[CV]  n_estimators=900, min_samples_split=10, min_samples_leaf=2, max_features=sqrt, max_depth=30, total=   4.9s\n",
      "[CV] n_estimators=900, min_samples_split=10, min_samples_leaf=2, max_features=sqrt, max_depth=30 \n",
      "[CV]  n_estimators=900, min_samples_split=10, min_samples_leaf=2, max_features=sqrt, max_depth=30, total=   5.9s\n",
      "[CV] n_estimators=900, min_samples_split=10, min_samples_leaf=2, max_features=sqrt, max_depth=30 \n",
      "[CV]  n_estimators=900, min_samples_split=10, min_samples_leaf=2, max_features=sqrt, max_depth=30, total=   5.8s\n",
      "[CV] n_estimators=900, min_samples_split=10, min_samples_leaf=2, max_features=sqrt, max_depth=30 \n",
      "[CV]  n_estimators=900, min_samples_split=10, min_samples_leaf=2, max_features=sqrt, max_depth=30, total=   5.2s\n",
      "[CV] n_estimators=1000, min_samples_split=2, min_samples_leaf=2, max_features=log2, max_depth=20 \n",
      "[CV]  n_estimators=1000, min_samples_split=2, min_samples_leaf=2, max_features=log2, max_depth=20, total=   6.3s\n",
      "[CV] n_estimators=1000, min_samples_split=2, min_samples_leaf=2, max_features=log2, max_depth=20 \n",
      "[CV]  n_estimators=1000, min_samples_split=2, min_samples_leaf=2, max_features=log2, max_depth=20, total=   6.4s\n",
      "[CV] n_estimators=1000, min_samples_split=2, min_samples_leaf=2, max_features=log2, max_depth=20 \n",
      "[CV]  n_estimators=1000, min_samples_split=2, min_samples_leaf=2, max_features=log2, max_depth=20, total=   7.4s\n",
      "[CV] n_estimators=1000, min_samples_split=2, min_samples_leaf=2, max_features=log2, max_depth=20 \n",
      "[CV]  n_estimators=1000, min_samples_split=2, min_samples_leaf=2, max_features=log2, max_depth=20, total=   8.6s\n",
      "[CV] n_estimators=1000, min_samples_split=2, min_samples_leaf=2, max_features=log2, max_depth=20 \n",
      "[CV]  n_estimators=1000, min_samples_split=2, min_samples_leaf=2, max_features=log2, max_depth=20, total=   6.5s\n",
      "[CV] n_estimators=1300, min_samples_split=2, min_samples_leaf=5, max_features=log2, max_depth=15 \n",
      "[CV]  n_estimators=1300, min_samples_split=2, min_samples_leaf=5, max_features=log2, max_depth=15, total=   8.8s\n",
      "[CV] n_estimators=1300, min_samples_split=2, min_samples_leaf=5, max_features=log2, max_depth=15 \n",
      "[CV]  n_estimators=1300, min_samples_split=2, min_samples_leaf=5, max_features=log2, max_depth=15, total=   6.8s\n",
      "[CV] n_estimators=1300, min_samples_split=2, min_samples_leaf=5, max_features=log2, max_depth=15 \n",
      "[CV]  n_estimators=1300, min_samples_split=2, min_samples_leaf=5, max_features=log2, max_depth=15, total=   7.3s\n",
      "[CV] n_estimators=1300, min_samples_split=2, min_samples_leaf=5, max_features=log2, max_depth=15 \n",
      "[CV]  n_estimators=1300, min_samples_split=2, min_samples_leaf=5, max_features=log2, max_depth=15, total=   6.7s\n",
      "[CV] n_estimators=1300, min_samples_split=2, min_samples_leaf=5, max_features=log2, max_depth=15 \n",
      "[CV]  n_estimators=1300, min_samples_split=2, min_samples_leaf=5, max_features=log2, max_depth=15, total=   6.8s\n",
      "[CV] n_estimators=1100, min_samples_split=100, min_samples_leaf=2, max_features=auto, max_depth=30 \n",
      "[CV]  n_estimators=1100, min_samples_split=100, min_samples_leaf=2, max_features=auto, max_depth=30, total=  15.8s\n",
      "[CV] n_estimators=1100, min_samples_split=100, min_samples_leaf=2, max_features=auto, max_depth=30 \n",
      "[CV]  n_estimators=1100, min_samples_split=100, min_samples_leaf=2, max_features=auto, max_depth=30, total=  14.3s\n",
      "[CV] n_estimators=1100, min_samples_split=100, min_samples_leaf=2, max_features=auto, max_depth=30 \n",
      "[CV]  n_estimators=1100, min_samples_split=100, min_samples_leaf=2, max_features=auto, max_depth=30, total=  15.5s\n",
      "[CV] n_estimators=1100, min_samples_split=100, min_samples_leaf=2, max_features=auto, max_depth=30 \n",
      "[CV]  n_estimators=1100, min_samples_split=100, min_samples_leaf=2, max_features=auto, max_depth=30, total=  14.7s\n",
      "[CV] n_estimators=1100, min_samples_split=100, min_samples_leaf=2, max_features=auto, max_depth=30 \n",
      "[CV]  n_estimators=1100, min_samples_split=100, min_samples_leaf=2, max_features=auto, max_depth=30, total=  15.2s\n",
      "[CV] n_estimators=1200, min_samples_split=10, min_samples_leaf=5, max_features=auto, max_depth=10 \n",
      "[CV]  n_estimators=1200, min_samples_split=10, min_samples_leaf=5, max_features=auto, max_depth=10, total=  17.5s\n",
      "[CV] n_estimators=1200, min_samples_split=10, min_samples_leaf=5, max_features=auto, max_depth=10 \n",
      "[CV]  n_estimators=1200, min_samples_split=10, min_samples_leaf=5, max_features=auto, max_depth=10, total=  18.7s\n",
      "[CV] n_estimators=1200, min_samples_split=10, min_samples_leaf=5, max_features=auto, max_depth=10 \n",
      "[CV]  n_estimators=1200, min_samples_split=10, min_samples_leaf=5, max_features=auto, max_depth=10, total=  18.1s\n",
      "[CV] n_estimators=1200, min_samples_split=10, min_samples_leaf=5, max_features=auto, max_depth=10 \n",
      "[CV]  n_estimators=1200, min_samples_split=10, min_samples_leaf=5, max_features=auto, max_depth=10, total=  18.1s\n",
      "[CV] n_estimators=1200, min_samples_split=10, min_samples_leaf=5, max_features=auto, max_depth=10 \n",
      "[CV]  n_estimators=1200, min_samples_split=10, min_samples_leaf=5, max_features=auto, max_depth=10, total=  19.4s\n",
      "[CV] n_estimators=200, min_samples_split=100, min_samples_leaf=2, max_features=auto, max_depth=20 \n",
      "[CV]  n_estimators=200, min_samples_split=100, min_samples_leaf=2, max_features=auto, max_depth=20, total=   3.5s\n",
      "[CV] n_estimators=200, min_samples_split=100, min_samples_leaf=2, max_features=auto, max_depth=20 \n",
      "[CV]  n_estimators=200, min_samples_split=100, min_samples_leaf=2, max_features=auto, max_depth=20, total=   3.3s\n",
      "[CV] n_estimators=200, min_samples_split=100, min_samples_leaf=2, max_features=auto, max_depth=20 \n",
      "[CV]  n_estimators=200, min_samples_split=100, min_samples_leaf=2, max_features=auto, max_depth=20, total=   2.6s\n",
      "[CV] n_estimators=200, min_samples_split=100, min_samples_leaf=2, max_features=auto, max_depth=20 \n",
      "[CV]  n_estimators=200, min_samples_split=100, min_samples_leaf=2, max_features=auto, max_depth=20, total=   2.9s\n",
      "[CV] n_estimators=200, min_samples_split=100, min_samples_leaf=2, max_features=auto, max_depth=20 \n",
      "[CV]  n_estimators=200, min_samples_split=100, min_samples_leaf=2, max_features=auto, max_depth=20, total=   2.7s\n",
      "[CV] n_estimators=1300, min_samples_split=5, min_samples_leaf=5, max_features=log2, max_depth=5 \n",
      "[CV]  n_estimators=1300, min_samples_split=5, min_samples_leaf=5, max_features=log2, max_depth=5, total=   4.4s\n",
      "[CV] n_estimators=1300, min_samples_split=5, min_samples_leaf=5, max_features=log2, max_depth=5 \n",
      "[CV]  n_estimators=1300, min_samples_split=5, min_samples_leaf=5, max_features=log2, max_depth=5, total=   3.9s\n",
      "[CV] n_estimators=1300, min_samples_split=5, min_samples_leaf=5, max_features=log2, max_depth=5 \n",
      "[CV]  n_estimators=1300, min_samples_split=5, min_samples_leaf=5, max_features=log2, max_depth=5, total=   4.6s\n",
      "[CV] n_estimators=1300, min_samples_split=5, min_samples_leaf=5, max_features=log2, max_depth=5 \n",
      "[CV]  n_estimators=1300, min_samples_split=5, min_samples_leaf=5, max_features=log2, max_depth=5, total=   4.4s\n",
      "[CV] n_estimators=1300, min_samples_split=5, min_samples_leaf=5, max_features=log2, max_depth=5 \n",
      "[CV]  n_estimators=1300, min_samples_split=5, min_samples_leaf=5, max_features=log2, max_depth=5, total=   4.0s\n",
      "[CV] n_estimators=1000, min_samples_split=5, min_samples_leaf=10, max_features=sqrt, max_depth=30 \n",
      "[CV]  n_estimators=1000, min_samples_split=5, min_samples_leaf=10, max_features=sqrt, max_depth=30, total=   5.7s\n",
      "[CV] n_estimators=1000, min_samples_split=5, min_samples_leaf=10, max_features=sqrt, max_depth=30 \n",
      "[CV]  n_estimators=1000, min_samples_split=5, min_samples_leaf=10, max_features=sqrt, max_depth=30, total=   5.6s\n",
      "[CV] n_estimators=1000, min_samples_split=5, min_samples_leaf=10, max_features=sqrt, max_depth=30 \n",
      "[CV]  n_estimators=1000, min_samples_split=5, min_samples_leaf=10, max_features=sqrt, max_depth=30, total=   6.2s\n",
      "[CV] n_estimators=1000, min_samples_split=5, min_samples_leaf=10, max_features=sqrt, max_depth=30 \n",
      "[CV]  n_estimators=1000, min_samples_split=5, min_samples_leaf=10, max_features=sqrt, max_depth=30, total=   7.4s\n",
      "[CV] n_estimators=1000, min_samples_split=5, min_samples_leaf=10, max_features=sqrt, max_depth=30 \n",
      "[CV]  n_estimators=1000, min_samples_split=5, min_samples_leaf=10, max_features=sqrt, max_depth=30, total=   5.8s\n",
      "[CV] n_estimators=400, min_samples_split=15, min_samples_leaf=1, max_features=sqrt, max_depth=15 \n"
     ]
    },
    {
     "name": "stdout",
     "output_type": "stream",
     "text": [
      "[CV]  n_estimators=400, min_samples_split=15, min_samples_leaf=1, max_features=sqrt, max_depth=15, total=   2.2s\n",
      "[CV] n_estimators=400, min_samples_split=15, min_samples_leaf=1, max_features=sqrt, max_depth=15 \n",
      "[CV]  n_estimators=400, min_samples_split=15, min_samples_leaf=1, max_features=sqrt, max_depth=15, total=   2.5s\n",
      "[CV] n_estimators=400, min_samples_split=15, min_samples_leaf=1, max_features=sqrt, max_depth=15 \n",
      "[CV]  n_estimators=400, min_samples_split=15, min_samples_leaf=1, max_features=sqrt, max_depth=15, total=   2.3s\n",
      "[CV] n_estimators=400, min_samples_split=15, min_samples_leaf=1, max_features=sqrt, max_depth=15 \n",
      "[CV]  n_estimators=400, min_samples_split=15, min_samples_leaf=1, max_features=sqrt, max_depth=15, total=   2.2s\n",
      "[CV] n_estimators=400, min_samples_split=15, min_samples_leaf=1, max_features=sqrt, max_depth=15 \n",
      "[CV]  n_estimators=400, min_samples_split=15, min_samples_leaf=1, max_features=sqrt, max_depth=15, total=   2.7s\n",
      "[CV] n_estimators=1000, min_samples_split=2, min_samples_leaf=5, max_features=log2, max_depth=30 \n",
      "[CV]  n_estimators=1000, min_samples_split=2, min_samples_leaf=5, max_features=log2, max_depth=30, total=   5.9s\n",
      "[CV] n_estimators=1000, min_samples_split=2, min_samples_leaf=5, max_features=log2, max_depth=30 \n",
      "[CV]  n_estimators=1000, min_samples_split=2, min_samples_leaf=5, max_features=log2, max_depth=30, total=   6.8s\n",
      "[CV] n_estimators=1000, min_samples_split=2, min_samples_leaf=5, max_features=log2, max_depth=30 \n",
      "[CV]  n_estimators=1000, min_samples_split=2, min_samples_leaf=5, max_features=log2, max_depth=30, total=   5.9s\n",
      "[CV] n_estimators=1000, min_samples_split=2, min_samples_leaf=5, max_features=log2, max_depth=30 \n",
      "[CV]  n_estimators=1000, min_samples_split=2, min_samples_leaf=5, max_features=log2, max_depth=30, total=   7.0s\n",
      "[CV] n_estimators=1000, min_samples_split=2, min_samples_leaf=5, max_features=log2, max_depth=30 \n",
      "[CV]  n_estimators=1000, min_samples_split=2, min_samples_leaf=5, max_features=log2, max_depth=30, total=   6.0s\n"
     ]
    },
    {
     "name": "stderr",
     "output_type": "stream",
     "text": [
      "[Parallel(n_jobs=1)]: Done  50 out of  50 | elapsed:  6.3min finished\n"
     ]
    },
    {
     "data": {
      "text/plain": [
       "RandomizedSearchCV(cv=5, estimator=RandomForestRegressor(), n_jobs=1,\n",
       "                   param_distributions={'max_depth': [5, 10, 15, 20, 25, 30],\n",
       "                                        'max_features': ['auto', 'sqrt',\n",
       "                                                         'log2'],\n",
       "                                        'min_samples_leaf': [1, 2, 5, 10],\n",
       "                                        'min_samples_split': [2, 5, 10, 15,\n",
       "                                                              100],\n",
       "                                        'n_estimators': [100, 200, 300, 400,\n",
       "                                                         500, 600, 700, 800,\n",
       "                                                         900, 1000, 1100, 1200,\n",
       "                                                         1300]},\n",
       "                   scoring='neg_mean_squared_error', verbose=2)"
      ]
     },
     "execution_count": 65,
     "metadata": {},
     "output_type": "execute_result"
    }
   ],
   "source": [
    "rf_rand.fit(X_train,y_train)"
   ]
  },
  {
   "cell_type": "code",
   "execution_count": 66,
   "metadata": {},
   "outputs": [
    {
     "data": {
      "text/plain": [
       "{'n_estimators': 400,\n",
       " 'min_samples_split': 15,\n",
       " 'min_samples_leaf': 1,\n",
       " 'max_features': 'sqrt',\n",
       " 'max_depth': 15}"
      ]
     },
     "execution_count": 66,
     "metadata": {},
     "output_type": "execute_result"
    }
   ],
   "source": [
    "rf_rand.best_params_"
   ]
  },
  {
   "cell_type": "code",
   "execution_count": 67,
   "metadata": {},
   "outputs": [
    {
     "data": {
      "text/plain": [
       "RandomForestRegressor(max_depth=15, max_features='sqrt', min_samples_split=15,\n",
       "                      n_estimators=400)"
      ]
     },
     "execution_count": 67,
     "metadata": {},
     "output_type": "execute_result"
    }
   ],
   "source": [
    "rf_rand.best_estimator_"
   ]
  },
  {
   "cell_type": "code",
   "execution_count": 68,
   "metadata": {},
   "outputs": [],
   "source": [
    "prediction=rf_rand.predict(X_test)"
   ]
  },
  {
   "cell_type": "code",
   "execution_count": 70,
   "metadata": {},
   "outputs": [
    {
     "data": {
      "text/plain": [
       "<matplotlib.axes._subplots.AxesSubplot at 0x1db9f70f2c8>"
      ]
     },
     "execution_count": 70,
     "metadata": {},
     "output_type": "execute_result"
    },
    {
     "data": {
      "image/png": "[encoded data removed]",
      "text/plain": [
       "<Figure size 432x288 with 1 Axes>"
      ]
     },
     "metadata": {
      "needs_background": "light"
     },
     "output_type": "display_data"
    }
   ],
   "source": [
    "sns.distplot(y_test-prediction)"
   ]
  },
  {
   "cell_type": "code",
   "execution_count": 72,
   "metadata": {},
   "outputs": [
    {
     "data": {
      "text/plain": [
       "array([16231.2106005 ,  6494.95084856,  8694.22940614, ...,\n",
       "        7217.99665029, 11923.28473728, 12434.40044669])"
      ]
     },
     "execution_count": 72,
     "metadata": {},
     "output_type": "execute_result"
    }
   ],
   "source": [
    "prediction"
   ]
  },
  {
   "cell_type": "code",
   "execution_count": 73,
   "metadata": {},
   "outputs": [],
   "source": [
    "from sklearn.metrics import mean_absolute_error,mean_squared_error,r2_score,"
   ]
  },
  {
   "cell_type": "code",
   "execution_count": 77,
   "metadata": {},
   "outputs": [
    {
     "name": "stdout",
     "output_type": "stream",
     "text": [
      "MAE after 1308.0510645381783\n",
      "MSE after  3831182.4823971367\n",
      "R2 after 0.8223183158044147\n"
     ]
    }
   ],
   "source": [
    "print('MAE after',mean_absolute_error(y_test,prediction))\n",
    "print('MSE after ',mean_squared_error(y_test,prediction))\n",
    "print('R2 after',r2_score(y_test,prediction))"
   ]
  },
  {
   "cell_type": "code",
   "execution_count": 76,
   "metadata": {},
   "outputs": [
    {
     "name": "stdout",
     "output_type": "stream",
     "text": [
      "MAE before 1198.2567475255207\n",
      "MSE before  4568182.964094945\n",
      "R2 before 0.7881378800139772\n"
     ]
    }
   ],
   "source": [
    "print('MAE before',mean_absolute_error(y_test,y_pred))\n",
    "print('MSE before ',mean_squared_error(y_test,y_pred))\n",
    "print('R2 before',r2_score(y_test,y_pred))"
   ]
  },
  {
   "cell_type": "code",
   "execution_count": null,
   "metadata": {},
   "outputs": [],
   "source": []
  }
 ],
 "metadata": {
  "kernelspec": {
   "display_name": "Python 3",
   "language": "python",
   "name": "python3"
  },
  "language_info": {
   "codemirror_mode": {
    "name": "ipython",
    "version": 3
   },
   "file_extension": ".py",
   "mimetype": "text/x-python",
   "name": "python",
   "nbconvert_exporter": "python",
   "pygments_lexer": "ipython3",
   "version": "3.7.6"
  }
 },
 "nbformat": 4,
 "nbformat_minor": 4
}
